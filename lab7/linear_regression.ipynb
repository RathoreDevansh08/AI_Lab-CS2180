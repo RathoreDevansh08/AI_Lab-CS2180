{
 "cells": [
  {
   "cell_type": "code",
   "execution_count": 1,
   "metadata": {},
   "outputs": [],
   "source": [
    "import numpy as np\n",
    "import matplotlib.pyplot as plt"
   ]
  },
  {
   "cell_type": "code",
   "execution_count": 114,
   "metadata": {},
   "outputs": [],
   "source": [
    "X=np.ndarray((21,1))\n",
    "Y=np.ndarray((21,1))"
   ]
  },
  {
   "cell_type": "code",
   "execution_count": 115,
   "metadata": {},
   "outputs": [
    {
     "data": {
      "image/png": "[encoded data removed]",
      "text/plain": [
       "<Figure size 432x288 with 1 Axes>"
      ]
     },
     "metadata": {},
     "output_type": "display_data"
    }
   ],
   "source": [
    "data=open(\"/home2/ailab/Downloads/lab7/linear\",'rb')\n",
    "k=0\n",
    "i=0\n",
    "for line in data:\n",
    "    word=line.split()\n",
    "    if(k!=0):\n",
    "        X[i][0]=word[0]\n",
    "        Y[i][0]=word[1]\n",
    "        plt.plot(X[i][0],Y[i][0],'bo')\n",
    "        i+=1\n",
    "    k+=1\n",
    "plt.show()"
   ]
  },
  {
   "cell_type": "code",
   "execution_count": 226,
   "metadata": {},
   "outputs": [
    {
     "data": {
      "text/plain": [
       "array([[-0.01701],\n",
       "       [ 0.19027],\n",
       "       [-0.0667 ],\n",
       "       [ 0.34759],\n",
       "       [-0.00457],\n",
       "       [ 0.0169 ],\n",
       "       [ 0.5054 ],\n",
       "       [ 1.25068],\n",
       "       [ 1.51939],\n",
       "       [ 1.17812],\n",
       "       [ 1.67118],\n",
       "       [ 2.1463 ],\n",
       "       [ 1.60588],\n",
       "       [ 2.54108],\n",
       "       [ 1.97292],\n",
       "       [ 2.38741],\n",
       "       [ 2.91471],\n",
       "       [ 3.12256],\n",
       "       [ 3.16602],\n",
       "       [ 2.86379],\n",
       "       [ 3.29251]])"
      ]
     },
     "execution_count": 226,
     "metadata": {},
     "output_type": "execute_result"
    }
   ],
   "source": [
    "Y"
   ]
  },
  {
   "cell_type": "code",
   "execution_count": 227,
   "metadata": {},
   "outputs": [],
   "source": [
    "W=np.random.random((2,1))"
   ]
  },
  {
   "cell_type": "code",
   "execution_count": 228,
   "metadata": {},
   "outputs": [],
   "source": [
    "def Loss(x,y,W):\n",
    "    return np.power(W[1][0]*x+W[0][0]-y,2)"
   ]
  },
  {
   "cell_type": "code",
   "execution_count": 231,
   "metadata": {},
   "outputs": [],
   "source": [
    "def cost(X,Y,W):\n",
    "    cost=0\n",
    "    for i in range(21):\n",
    "        cost+=Loss(X[i][0],Y[i][0],W)\n",
    "    return cost"
   ]
  },
  {
   "cell_type": "code",
   "execution_count": 272,
   "metadata": {},
   "outputs": [],
   "source": [
    "def dL(X,W,Y):\n",
    "    a=2*(W[1][0]*X+W[0][0]-Y)\n",
    "    b=2*(W[1][0]*X+W[0][0]-Y)*(X)\n",
    "    return a,b"
   ]
  },
  {
   "cell_type": "code",
   "execution_count": 284,
   "metadata": {},
   "outputs": [],
   "source": [
    "def GD(X,Y,W,it=100,alpha=0.001):\n",
    "    W=np.random.random((2,1))\n",
    "    #W[0][0]=10\n",
    "    C=cost(X,Y,W)\n",
    "    #plt.plot(C,0,'ro')\n",
    "    for i in range(it):\n",
    "        for j in range(21):\n",
    "            a,b=dL(X[j][0],W,Y[j][0])\n",
    "            W[0][0]=W[0][0]-alpha*(a)\n",
    "            W[1][0]=W[1][0]-alpha*(b)\n",
    "        C=cost(X,Y,W)\n",
    "        #plt.plot(C,i,'r-')\n",
    "    #plt.show()\n",
    "    return W"
   ]
  },
  {
   "cell_type": "code",
   "execution_count": 285,
   "metadata": {},
   "outputs": [],
   "source": [
    "W=GD(X,Y,W,1000,0.01)"
   ]
  },
  {
   "cell_type": "code",
   "execution_count": 286,
   "metadata": {},
   "outputs": [
    {
     "name": "stdout",
     "output_type": "stream",
     "text": [
      "[[1.55036108]\n",
      " [1.85325617]]\n"
     ]
    }
   ],
   "source": [
    "print(W)"
   ]
  },
  {
   "cell_type": "code",
   "execution_count": 289,
   "metadata": {},
   "outputs": [
    {
     "data": {
      "text/plain": [
       "[<matplotlib.lines.Line2D at 0x7f7d222efb00>]"
      ]
     },
     "execution_count": 289,
     "metadata": {},
     "output_type": "execute_result"
    },
    {
     "data": {
      "image/png": "[encoded data removed]",
      "text/plain": [
       "<Figure size 432x288 with 1 Axes>"
      ]
     },
     "metadata": {},
     "output_type": "display_data"
    }
   ],
   "source": [
    "x=np.linspace(-2,2,100)\n",
    "plt.plot(X[:],Y[:],'bo')\n",
    "plt.plot(x,(W[1][0]*x+W[0][0]),'g-')"
   ]
  },
  {
   "cell_type": "code",
   "execution_count": null,
   "metadata": {},
   "outputs": [],
   "source": []
  },
  {
   "cell_type": "code",
   "execution_count": null,
   "metadata": {},
   "outputs": [],
   "source": []
  }
 ],
 "metadata": {
  "kernelspec": {
   "display_name": "Python 3",
   "language": "python",
   "name": "python3"
  },
  "language_info": {
   "codemirror_mode": {
    "name": "ipython",
    "version": 3
   },
   "file_extension": ".py",
   "mimetype": "text/x-python",
   "name": "python",
   "nbconvert_exporter": "python",
   "pygments_lexer": "ipython3",
   "version": "3.6.7"
  }
 },
 "nbformat": 4,
 "nbformat_minor": 2
}
