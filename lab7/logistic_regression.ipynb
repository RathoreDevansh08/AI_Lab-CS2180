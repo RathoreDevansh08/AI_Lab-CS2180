{
 "cells": [
  {
   "cell_type": "code",
   "execution_count": 24,
   "metadata": {},
   "outputs": [],
   "source": [
    "import numpy as np\n",
    "import matplotlib.pyplot as plt"
   ]
  },
  {
   "cell_type": "code",
   "execution_count": 85,
   "metadata": {},
   "outputs": [],
   "source": [
    "def pie1(x1,x2,w):\n",
    "    return 1/(1+np.exp((-1)*(w[2][0]*x2+w[1][0]*x1+w[0][0])))"
   ]
  },
  {
   "cell_type": "code",
   "execution_count": 86,
   "metadata": {},
   "outputs": [],
   "source": [
    "def pie2(x1,x2,w):\n",
    "    return 1/(1+np.exp(w[2][0]*x2+w[1][0]*x1+w[0][0]))"
   ]
  },
  {
   "cell_type": "code",
   "execution_count": 82,
   "metadata": {},
   "outputs": [],
   "source": [
    "def Loss(yi,x1,x2,w):\n",
    "    if(yi==1):\n",
    "        return -1*np.log(pie1(x1,x2,w))\n",
    "    else:\n",
    "        return -1*np.log(pie2(x1,x2,w))"
   ]
  },
  {
   "cell_type": "code",
   "execution_count": 79,
   "metadata": {},
   "outputs": [],
   "source": [
    "def cost(X,Y,W):\n",
    "    cost=0.00\n",
    "    for i in range(20):\n",
    "        xi=X[i,:]\n",
    "        yi=Y[i][0]\n",
    "        w=W\n",
    "        cost+=Loss(yi,xi[1],xi[2],w)\n",
    "    return cost"
   ]
  },
  {
   "cell_type": "code",
   "execution_count": 68,
   "metadata": {},
   "outputs": [],
   "source": [
    "X=np.ndarray((20,3))\n",
    "Y=np.ndarray((20,1))"
   ]
  },
  {
   "cell_type": "code",
   "execution_count": 69,
   "metadata": {},
   "outputs": [
    {
     "data": {
      "image/png": "[encoded data removed]",
      "text/plain": [
       "<Figure size 432x288 with 1 Axes>"
      ]
     },
     "metadata": {},
     "output_type": "display_data"
    }
   ],
   "source": [
    "data=open(\"/home2/ailab/Downloads/lab7/logistic\",'rb')\n",
    "k=0\n",
    "i=0\n",
    "for line in data:\n",
    "    word=line.split()\n",
    "    if(k!=0):\n",
    "        X[i][0]=1.00\n",
    "        X[i][1]=word[0]\n",
    "        X[i][2]=word[1]\n",
    "        Y[i][0]=word[2]\n",
    "        if(Y[i][0]==-1):\n",
    "            plt.plot(X[i][0],X[i][1],'bo')\n",
    "        else:\n",
    "            plt.plot(X[i][0],X[i][1],'ro')\n",
    "        i+=1\n",
    "    k+=1\n",
    "plt.show()"
   ]
  },
  {
   "cell_type": "code",
   "execution_count": 70,
   "metadata": {},
   "outputs": [],
   "source": [
    "def dL1(x,w):\n",
    "    a=(-1)*pie1(x[1],x[2],w)*np.exp((-1)*(x[1]*w[1]+x[2]*w[2]+w[0]))*(x[1])\n",
    "    b=(-1)*pie1(x[1],x[2],w)*np.exp((-1)*(x[1]*w[1]+x[2]*w[2]+w[0]))*(x[2])\n",
    "    c=(-1)*pie1(x[1],x[2],w)*np.exp((-1)*(x[1]*w[1]+x[2]*w[2]+w[0]))\n",
    "    return a,b,c"
   ]
  },
  {
   "cell_type": "code",
   "execution_count": 71,
   "metadata": {},
   "outputs": [],
   "source": [
    "def dL2(x,w):\n",
    "    a=pie2(x[1],x[2],w)*np.exp((x[1]*w[1]+x[2]*w[2]+w[0]))*(x[1])\n",
    "    b=pie2(x[1],x[2],w)*np.exp((x[1]*w[1]+x[2]*w[2]+w[0]))*(x[2])\n",
    "    c=pie2(x[1],x[2],w)*np.exp((x[1]*w[1]+x[2]*w[2]+w[0]))\n",
    "    return a,b,c"
   ]
  },
  {
   "cell_type": "code",
   "execution_count": 72,
   "metadata": {},
   "outputs": [],
   "source": [
    "W=np.random.random((3,1))"
   ]
  },
  {
   "cell_type": "code",
   "execution_count": 73,
   "metadata": {},
   "outputs": [],
   "source": [
    "def phie(X,W):\n",
    "    return np.dot(X,W)"
   ]
  },
  {
   "cell_type": "code",
   "execution_count": 87,
   "metadata": {},
   "outputs": [],
   "source": [
    "def GD(X,Y,W,it=1000,alpha=0.001):\n",
    "    C=cost(X,Y,W)\n",
    "    plt.plot(C,0,'ro')\n",
    "    for i in range(1000):\n",
    "        for j in range(20):\n",
    "            if(Y[j][0]==1):\n",
    "                a,b,c=dL1(X[j,:],W)\n",
    "            else:\n",
    "                a,b,c=dL2(X[j,:],W)\n",
    "            W[0][0]=W[0][0]-alpha*(c)\n",
    "            W[1][0]=W[2][0]-alpha*(a)\n",
    "            W[2][0]=W[1][0]-alpha*(b)\n",
    "        if(i%50==0):\n",
    "            C=cost(X,Y,W)\n",
    "            plt.plot(C,i,'ro')\n",
    "    plt.show()\n",
    "    return W"
   ]
  },
  {
   "cell_type": "code",
   "execution_count": 88,
   "metadata": {},
   "outputs": [
    {
     "data": {
      "image/png": "[encoded data removed]",
      "text/plain": [
       "<Figure size 432x288 with 1 Axes>"
      ]
     },
     "metadata": {},
     "output_type": "display_data"
    }
   ],
   "source": [
    "W=GD(X,Y,W,1000,0.001)"
   ]
  },
  {
   "cell_type": "code",
   "execution_count": 89,
   "metadata": {},
   "outputs": [
    {
     "name": "stdout",
     "output_type": "stream",
     "text": [
      "[[-0.98947448]\n",
      " [ 2.14592936]\n",
      " [ 2.14594462]]\n"
     ]
    }
   ],
   "source": [
    "print(W)"
   ]
  },
  {
   "cell_type": "code",
   "execution_count": 91,
   "metadata": {},
   "outputs": [
    {
     "data": {
      "text/plain": [
       "[<matplotlib.lines.Line2D at 0x7f4451241fd0>]"
      ]
     },
     "execution_count": 91,
     "metadata": {},
     "output_type": "execute_result"
    },
    {
     "data": {
      "image/png": "[encoded data removed]",
      "text/plain": [
       "<Figure size 432x288 with 1 Axes>"
      ]
     },
     "metadata": {},
     "output_type": "display_data"
    }
   ],
   "source": [
    "x=np.linspace(-10,10,100)\n",
    "plt.plot(X[:,1],X[:,2],'bo')\n",
    "plt.plot(x,(-1)*(W[1][0]*x+W[0][0])/W[2][0],'go')"
   ]
  },
  {
   "cell_type": "code",
   "execution_count": null,
   "metadata": {},
   "outputs": [],
   "source": []
  }
 ],
 "metadata": {
  "kernelspec": {
   "display_name": "Python 3",
   "language": "python",
   "name": "python3"
  },
  "language_info": {
   "codemirror_mode": {
    "name": "ipython",
    "version": 3
   },
   "file_extension": ".py",
   "mimetype": "text/x-python",
   "name": "python",
   "nbconvert_exporter": "python",
   "pygments_lexer": "ipython3",
   "version": "3.6.7"
  }
 },
 "nbformat": 4,
 "nbformat_minor": 2
}
