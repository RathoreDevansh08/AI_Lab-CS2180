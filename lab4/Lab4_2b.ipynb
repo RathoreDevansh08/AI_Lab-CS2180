{
 "cells": [
  {
   "cell_type": "code",
   "execution_count": 1,
   "metadata": {},
   "outputs": [],
   "source": [
    "import numpy as np\n",
    "import matplotlib.pyplot as plt"
   ]
  },
  {
   "cell_type": "code",
   "execution_count": 54,
   "metadata": {},
   "outputs": [],
   "source": [
    "n=100\n",
    "pro_k=0.4\n",
    "pro_a=float(1-pro_k)"
   ]
  },
  {
   "cell_type": "code",
   "execution_count": 68,
   "metadata": {},
   "outputs": [],
   "source": [
    "u1=3.00     #kid->1,adult->2\n",
    "u2=9.00\n",
    "sigma1=3.00\n",
    "sigma2=3.00"
   ]
  },
  {
   "cell_type": "code",
   "execution_count": 56,
   "metadata": {},
   "outputs": [],
   "source": [
    "def func_k(x):\n",
    "    return float(float(1/(np.sqrt(2*np.pi)*sigma1))*np.exp(float(-1.00*0.5*(np.power(float((x-u1)/sigma1),2)))))\n",
    "def func_a(x):\n",
    "    return float(float(1/(np.sqrt(2*np.pi)*sigma2))*np.exp(float(-1.00*0.5*(np.power(float((x-u2)/sigma2),2)))))"
   ]
  },
  {
   "cell_type": "code",
   "execution_count": 57,
   "metadata": {},
   "outputs": [],
   "source": [
    "class village:\n",
    "    def __init__(self,n):\n",
    "        \n",
    "        self.n=n\n",
    "      \n",
    "    def print_village(self):\n",
    "        state=np.random.randint(100)\n",
    "        if(state<int(pro_k*100)):\n",
    "            st=\"Kid\"\n",
    "            height=(np.random.randn()*sigma1)+u1\n",
    "        else:\n",
    "            st=\"Adult\"\n",
    "            height=(np.random.randn()*sigma2)+u2\n",
    "        return st,height"
   ]
  },
  {
   "cell_type": "code",
   "execution_count": 81,
   "metadata": {},
   "outputs": [
    {
     "name": "stdout",
     "output_type": "stream",
     "text": [
      "---------VILLAGE---------\n",
      "Adult     12.541583501364489\n",
      "Adult     8.25426197595087\n",
      "Kid     -1.9802415092058716\n",
      "Kid     2.0992969860002164\n",
      "Adult     8.930994091345344\n",
      "Adult     8.839656627070138\n",
      "Adult     5.608666111427778\n",
      "Adult     9.493568825104074\n",
      "Adult     9.062089772535485\n",
      "Kid     -1.7725015504783617\n",
      "Adult     11.751342680060223\n",
      "Adult     13.091780730447596\n",
      "Adult     8.91287237412288\n",
      "Adult     6.178506693855402\n",
      "Adult     7.192529086894284\n",
      "Kid     4.066586110284305\n",
      "Kid     5.589869834715863\n",
      "Kid     5.639050923971192\n",
      "Kid     7.458016305146166\n",
      "Adult     10.879523222125602\n",
      "Kid     1.5847827969572563\n",
      "Adult     6.952565685216204\n",
      "Kid     4.308513080466703\n",
      "Kid     0.7502988894904288\n",
      "Kid     -4.419147404894911\n",
      "Kid     1.2411517446871012\n",
      "Adult     11.03738417279835\n",
      "Adult     8.042388573512921\n",
      "Adult     6.067747417491363\n",
      "Kid     0.33657093154959883\n",
      "Kid     6.977223512822733\n",
      "Adult     11.133412711861824\n",
      "Adult     16.24276194457648\n",
      "Adult     10.224616573175219\n",
      "Adult     10.18272796154297\n",
      "Adult     10.719227312941161\n",
      "Adult     4.847975020937235\n",
      "Kid     -2.207216979888468\n",
      "Kid     2.2275643093255835\n",
      "Adult     8.82387501443647\n",
      "Kid     3.9030151144266103\n",
      "Adult     11.262614110237546\n",
      "Kid     -0.5178669944087715\n",
      "Adult     7.251463328906304\n",
      "Adult     3.761638812445491\n",
      "Kid     4.99511370159749\n",
      "Adult     8.327101331890335\n",
      "Adult     10.477026386271575\n",
      "Adult     10.783732579191751\n",
      "Adult     4.203886126227607\n",
      "Kid     2.50588337018709\n",
      "Adult     8.24728253348173\n",
      "Kid     2.1803149807796913\n",
      "Adult     7.341185531867611\n",
      "Adult     6.588947328090038\n",
      "Adult     7.302321036232957\n",
      "Kid     10.892536760901214\n",
      "Kid     5.2501642442218905\n",
      "Kid     6.197569686182588\n",
      "Adult     5.8126774815697\n",
      "Kid     0.5340668489131271\n",
      "Adult     8.809869122914984\n",
      "Kid     -2.048559847383018\n",
      "Kid     -0.33491853495539026\n",
      "Adult     9.762299364360763\n",
      "Adult     7.273652849574737\n",
      "Adult     10.942162538663492\n",
      "Adult     6.041262429609388\n",
      "Adult     12.51290207355433\n",
      "Adult     12.025957684119085\n",
      "Adult     5.719372617014743\n",
      "Kid     6.436511464081143\n",
      "Adult     9.469972852080723\n",
      "Kid     3.331990463786078\n",
      "Adult     11.688334438011534\n",
      "Kid     7.195185600956606\n",
      "Kid     -0.2779269008079801\n",
      "Adult     13.555186150449158\n",
      "Kid     4.479566974022188\n",
      "Kid     5.718185754944587\n",
      "Adult     4.881022633293776\n",
      "Adult     6.989388420374157\n",
      "Kid     4.983064908092791\n",
      "Adult     11.666300918067698\n",
      "Kid     2.06778485260401\n",
      "Adult     12.317217314126971\n",
      "Kid     3.735787796266866\n",
      "Adult     10.245544216317224\n",
      "Adult     7.73737292014285\n",
      "Adult     10.736360658171108\n",
      "Adult     13.787226558337212\n",
      "Adult     10.801862318361023\n",
      "Adult     13.451697864846007\n",
      "Adult     7.4047363735625495\n",
      "Kid     0.9225289531832712\n",
      "Adult     5.605338776585482\n",
      "Adult     9.240310184373078\n",
      "Kid     6.701487001372836\n",
      "Kid     4.0881367965749265\n",
      "Adult     9.743873052542996\n"
     ]
    }
   ],
   "source": [
    "H=[]\n",
    "People=[]\n",
    "Vil=village(n)\n",
    "avg=0.00\n",
    "print(\"---------VILLAGE---------\")\n",
    "for i in range(n):\n",
    "    st,height=Vil.print_village()\n",
    "    avg=avg+float(height/n)\n",
    "    H.append(height)\n",
    "    People.append(st)\n",
    "    print(str(st)+\" \"*5+str(height))"
   ]
  },
  {
   "cell_type": "code",
   "execution_count": 82,
   "metadata": {},
   "outputs": [
    {
     "data": {
      "text/plain": [
       "(array([ 1.,  6.,  7.,  8., 18., 19., 15., 18.,  7.,  1.]),\n",
       " array([-4.4191474 , -2.35295647, -0.28676554,  1.7794254 ,  3.84561633,\n",
       "         5.91180727,  7.9779982 , 10.04418914, 12.11038007, 14.17657101,\n",
       "        16.24276194]),\n",
       " <a list of 10 Patch objects>)"
      ]
     },
     "execution_count": 82,
     "metadata": {},
     "output_type": "execute_result"
    },
    {
     "data": {
      "image/png": "[encoded data removed]",
      "text/plain": [
       "<Figure size 432x288 with 1 Axes>"
      ]
     },
     "metadata": {},
     "output_type": "display_data"
    }
   ],
   "source": [
    "plt.hist(H)"
   ]
  },
  {
   "cell_type": "code",
   "execution_count": 83,
   "metadata": {},
   "outputs": [],
   "source": [
    "class agent:\n",
    "    def predict(self,h):\n",
    "        if(float(func_k(h)*pro_k)>float(func_a(h)*pro_a)):\n",
    "            return \"Kid\"\n",
    "        else:\n",
    "            return \"Adult\""
   ]
  },
  {
   "cell_type": "code",
   "execution_count": 84,
   "metadata": {},
   "outputs": [
    {
     "data": {
      "text/plain": [
       "'Adult'"
      ]
     },
     "execution_count": 84,
     "metadata": {},
     "output_type": "execute_result"
    }
   ],
   "source": [
    "A=agent()\n",
    "A.predict(6.32)"
   ]
  },
  {
   "cell_type": "code",
   "execution_count": 85,
   "metadata": {},
   "outputs": [
    {
     "name": "stdout",
     "output_type": "stream",
     "text": [
      "Average Loss : 0.13999999999999999\n"
     ]
    }
   ],
   "source": [
    "loss=0\n",
    "for i in range(len(H)):\n",
    "    if (People[i]!=A.predict(H[i])):\n",
    "            loss+=float(1/(len(H)))\n",
    "print(\"Average Loss : \"+str(loss))"
   ]
  },
  {
   "cell_type": "code",
   "execution_count": null,
   "metadata": {},
   "outputs": [],
   "source": []
  }
 ],
 "metadata": {
  "kernelspec": {
   "display_name": "Python 3",
   "language": "python",
   "name": "python3"
  },
  "language_info": {
   "codemirror_mode": {
    "name": "ipython",
    "version": 3
   },
   "file_extension": ".py",
   "mimetype": "text/x-python",
   "name": "python",
   "nbconvert_exporter": "python",
   "pygments_lexer": "ipython3",
   "version": "3.6.5"
  }
 },
 "nbformat": 4,
 "nbformat_minor": 2
}
