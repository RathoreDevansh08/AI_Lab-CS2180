{
 "cells": [
  {
   "cell_type": "code",
   "execution_count": 1,
   "metadata": {},
   "outputs": [],
   "source": [
    "import numpy as np\n",
    "import matplotlib.pyplot as plt"
   ]
  },
  {
   "cell_type": "code",
   "execution_count": 50,
   "metadata": {},
   "outputs": [],
   "source": [
    "n=100\n",
    "pro_k=0.5\n",
    "pro_a=float(1-pro_k)"
   ]
  },
  {
   "cell_type": "code",
   "execution_count": 51,
   "metadata": {},
   "outputs": [],
   "source": [
    "ki=[]\n",
    "ad=[]\n",
    "prob_k=[]\n",
    "prob_a=[]"
   ]
  },
  {
   "cell_type": "code",
   "execution_count": 52,
   "metadata": {},
   "outputs": [],
   "source": [
    "func_k=[(4.9,5.0,1),(5.0,5.1,1),(5.1,5.2,1),(5.2,5.3,1),(5.3,5.4,1),(5.4,5.5,1),(5.5,5.9,1)]\n",
    "func_a=[(4.9,5.4,0.2),(5.4,5.9,1.8)]\n",
    "area=1.00"
   ]
  },
  {
   "cell_type": "code",
   "execution_count": 53,
   "metadata": {},
   "outputs": [],
   "source": [
    "class village:\n",
    "    def __init__(self,n):\n",
    "        \n",
    "        self.n=n\n",
    "        \n",
    "        for i in range(len(func_k)):\n",
    "            a,b,l=func_k[i]\n",
    "            z=int((b-a)*l*100.00/area)\n",
    "            ki.append(z)\n",
    "            for j in range(z):\n",
    "                prob_k.append(i)\n",
    "            \n",
    "        for i in range(len(func_a)):\n",
    "            a,b,l=func_a[i]\n",
    "            z=int((b-a)*l*100.00/area)\n",
    "            ad.append(z)\n",
    "            for j in range(z):\n",
    "                prob_a.append(i)\n",
    "      \n",
    "    def print_village(self):\n",
    "        state=np.random.randint(100)\n",
    "        if(state<int(pro_k*100)):\n",
    "            st=\"Kid\"\n",
    "            h=np.random.randint(100)\n",
    "            h=prob_k[h]\n",
    "            a,b,l=func_k[h]\n",
    "            height=np.random.uniform(a,b)\n",
    "        else:\n",
    "            st=\"Adult\"\n",
    "            h=np.random.randint(100)\n",
    "            h=prob_a[h]\n",
    "            a,b,l=func_a[h]\n",
    "            height=np.random.uniform(a,b)\n",
    "        return st,height"
   ]
  },
  {
   "cell_type": "code",
   "execution_count": 56,
   "metadata": {},
   "outputs": [
    {
     "name": "stdout",
     "output_type": "stream",
     "text": [
      "---------VILLAGE---------\n",
      "Kid     5.407656914203662\n",
      "Kid     5.513234470801892\n",
      "Kid     5.043395864953126\n",
      "Kid     5.342602974154785\n",
      "Adult     5.2027316344433086\n",
      "Adult     5.63475286771607\n",
      "Kid     5.344679411874938\n",
      "Adult     5.658662201216113\n",
      "Kid     5.8605915640087085\n",
      "Adult     5.7058962985739345\n",
      "Kid     5.005217685008548\n",
      "Kid     5.173748105140503\n",
      "Adult     5.511379930521059\n",
      "Adult     5.616984293143382\n",
      "Adult     5.8669083555529165\n",
      "Kid     5.641472934077476\n",
      "Adult     5.781330375632614\n",
      "Adult     5.838846557205443\n",
      "Kid     5.501986472972157\n",
      "Adult     5.444813947114917\n",
      "Kid     4.9678209842384975\n",
      "Adult     5.788686562251793\n",
      "Kid     5.14074030002932\n",
      "Kid     5.718165540843623\n",
      "Adult     5.5918132843333455\n",
      "Kid     5.032283513422112\n",
      "Adult     5.178259471149586\n",
      "Adult     5.647519173835708\n",
      "Adult     5.439947199220894\n",
      "Adult     5.5965987297032855\n",
      "Kid     5.158239344596681\n",
      "Adult     5.064079933017674\n",
      "Kid     5.621079553005456\n",
      "Adult     5.720994342060953\n",
      "Adult     5.555192053367593\n",
      "Adult     5.767273219767022\n",
      "Adult     5.532007530743022\n",
      "Kid     4.924438127217804\n",
      "Kid     5.405448563636162\n",
      "Adult     5.532456944928729\n",
      "Kid     4.956205344633874\n",
      "Kid     5.514509953231191\n",
      "Kid     5.837949749315419\n",
      "Adult     5.509551435021612\n",
      "Adult     5.390411454806364\n",
      "Adult     5.637908031681719\n",
      "Kid     4.992799964499166\n",
      "Adult     5.615500428762166\n",
      "Adult     5.764679361140563\n",
      "Adult     5.5947314094965\n",
      "Kid     5.697265257897552\n",
      "Adult     5.7724388234462\n",
      "Kid     4.940237995106773\n",
      "Kid     5.498010525667123\n",
      "Adult     5.653239802846209\n",
      "Adult     5.430035977310247\n",
      "Adult     5.08100416247982\n",
      "Adult     5.530679294240398\n",
      "Kid     5.093607226658141\n",
      "Adult     5.509061591028028\n",
      "Kid     5.163154048870797\n",
      "Adult     5.71489983017147\n",
      "Kid     5.0483034891037875\n",
      "Adult     5.575382176536549\n",
      "Adult     5.639678767081018\n",
      "Kid     5.891089193422406\n",
      "Adult     5.894123429847463\n",
      "Kid     5.558800772557372\n",
      "Kid     4.908602976169892\n",
      "Kid     5.835163900737519\n",
      "Adult     5.42483573458212\n",
      "Kid     5.356322228095951\n",
      "Kid     5.629441634760543\n",
      "Adult     5.897159990999822\n",
      "Kid     5.439177830438816\n",
      "Adult     5.721879354867838\n",
      "Adult     5.5629969862996775\n",
      "Kid     5.411763127686527\n",
      "Adult     5.480147227020047\n",
      "Adult     5.681186698736383\n",
      "Kid     5.167957022764439\n",
      "Adult     5.792785882709463\n",
      "Kid     5.246165475995446\n",
      "Adult     5.67915898828661\n",
      "Kid     5.066129302280576\n",
      "Adult     5.698352270940684\n",
      "Kid     5.140321334179164\n",
      "Kid     5.101964828455377\n",
      "Kid     5.805180081871204\n",
      "Adult     5.561628146563584\n",
      "Kid     4.9764763971044115\n",
      "Adult     5.64665145792115\n",
      "Adult     5.838866330605408\n",
      "Kid     5.839336169044387\n",
      "Kid     5.296564265405155\n",
      "Kid     5.209885604520401\n",
      "Kid     4.915479773642738\n",
      "Kid     4.99233363986154\n",
      "Kid     5.355423153970691\n",
      "Kid     5.747759307070583\n"
     ]
    }
   ],
   "source": [
    "H=[]\n",
    "People=[]\n",
    "Vil=village(n)\n",
    "print(\"---------VILLAGE---------\")\n",
    "for i in range(n):\n",
    "    st,height=Vil.print_village()\n",
    "    H.append(height)\n",
    "    People.append(st)\n",
    "    print(str(st)+\" \"*5+str(height))"
   ]
  },
  {
   "cell_type": "code",
   "execution_count": 72,
   "metadata": {},
   "outputs": [
    {
     "data": {
      "text/plain": [
       "(array([10.,  8.,  8.,  3.,  5., 10., 17., 16., 12., 11.]),\n",
       " array([4.90860298, 5.00745868, 5.10631438, 5.20517008, 5.30402578,\n",
       "        5.40288148, 5.50173719, 5.60059289, 5.69944859, 5.79830429,\n",
       "        5.89715999]),\n",
       " <a list of 10 Patch objects>)"
      ]
     },
     "execution_count": 72,
     "metadata": {},
     "output_type": "execute_result"
    },
    {
     "data": {
      "image/png": "[encoded data removed]",
      "text/plain": [
       "<Figure size 432x288 with 1 Axes>"
      ]
     },
     "metadata": {},
     "output_type": "display_data"
    }
   ],
   "source": [
    "plt.hist(H)"
   ]
  },
  {
   "cell_type": "code",
   "execution_count": 58,
   "metadata": {},
   "outputs": [],
   "source": [
    "agent_pred=[]\n",
    "lset=set([])"
   ]
  },
  {
   "cell_type": "code",
   "execution_count": 59,
   "metadata": {},
   "outputs": [],
   "source": [
    "class agent:\n",
    "    def __init__(self):\n",
    "        self.pro_k=pro_k\n",
    "        self.pro_a=pro_a\n",
    "        self.lset=lset\n",
    "        inter=[]\n",
    "        for i in range(len(func_a)):\n",
    "            a,b,l=func_a[i]\n",
    "            self.lset.add(a)\n",
    "            self.lset.add(b)\n",
    "            \n",
    "        for i in range(len(func_k)):\n",
    "            a,b,l=func_k[i]\n",
    "            self.lset.add(a)\n",
    "            self.lset.add(b)\n",
    "        \n",
    "    def predict(self):    \n",
    "        i_a=0\n",
    "        i_k=0\n",
    "        a1,b1,l1=func_a[i_a]\n",
    "        a2,b2,l2=func_k[i_k]\n",
    "        self.lset=sorted(self.lset)\n",
    "        no=len(lset)\n",
    "        \n",
    "        no=no-1\n",
    "        \n",
    "        for m in range(no):\n",
    "            \n",
    "            if b1<=self.lset[m]:\n",
    "                i_a=i_a+1\n",
    "            if b2<=self.lset[m]:\n",
    "                i_k=i_k+1\n",
    "                \n",
    "            a1,b1,l1=func_a[i_a]\n",
    "            a2,b2,l2=func_k[i_k]\n",
    "            \n",
    "            if(float(l1*pro_a)>float(l2*pro_k)):\n",
    "                agent_pred.append((self.lset[m],self.lset[m+1],'a'))\n",
    "            else:\n",
    "                agent_pred.append((self.lset[m],self.lset[m+1],'k'))\n",
    "        \n",
    "        return m\n",
    "    \n",
    "    def decide(self,height):\n",
    "        for i in range(len(agent_pred)):\n",
    "            a,b,s=agent_pred[i]\n",
    "            if a<=height<=b:\n",
    "                if s=='a':\n",
    "                    return \"Adult\"\n",
    "                else:\n",
    "                    return \"Kid\"\n",
    "                    "
   ]
  },
  {
   "cell_type": "code",
   "execution_count": 60,
   "metadata": {},
   "outputs": [
    {
     "name": "stdout",
     "output_type": "stream",
     "text": [
      "[(4.9, 5.0, 'k'), (5.0, 5.1, 'k'), (5.1, 5.2, 'k'), (5.2, 5.3, 'k'), (5.3, 5.4, 'k'), (5.4, 5.5, 'a'), (5.5, 5.9, 'a')]\n"
     ]
    }
   ],
   "source": [
    "A=agent()\n",
    "m=A.predict()\n",
    "print(agent_pred)"
   ]
  },
  {
   "cell_type": "code",
   "execution_count": 68,
   "metadata": {},
   "outputs": [
    {
     "name": "stdout",
     "output_type": "stream",
     "text": [
      "Kid\n"
     ]
    }
   ],
   "source": [
    "s=A.decide(5.3999999)\n",
    "print(s)"
   ]
  },
  {
   "cell_type": "code",
   "execution_count": 66,
   "metadata": {},
   "outputs": [
    {
     "name": "stdout",
     "output_type": "stream",
     "text": [
      "Average Loss : 0.26000000000000006\n"
     ]
    }
   ],
   "source": [
    "loss=0.00\n",
    "for i in range(len(H)):\n",
    "    if(People[i]!=A.decide(H[i])):\n",
    "        loss+=float(1/len(H))\n",
    "print(\"Average Loss : \"+str(loss))"
   ]
  },
  {
   "cell_type": "code",
   "execution_count": null,
   "metadata": {},
   "outputs": [],
   "source": []
  }
 ],
 "metadata": {
  "kernelspec": {
   "display_name": "Python 3",
   "language": "python",
   "name": "python3"
  },
  "language_info": {
   "codemirror_mode": {
    "name": "ipython",
    "version": 3
   },
   "file_extension": ".py",
   "mimetype": "text/x-python",
   "name": "python",
   "nbconvert_exporter": "python",
   "pygments_lexer": "ipython3",
   "version": "3.6.5"
  }
 },
 "nbformat": 4,
 "nbformat_minor": 2
}
