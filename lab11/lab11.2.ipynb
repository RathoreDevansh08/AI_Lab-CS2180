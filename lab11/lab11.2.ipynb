{
 "cells": [
  {
   "cell_type": "code",
   "execution_count": 2,
   "metadata": {},
   "outputs": [],
   "source": [
    "import numpy as np\n",
    "import matplotlib.pyplot as plt"
   ]
  },
  {
   "cell_type": "code",
   "execution_count": 49,
   "metadata": {},
   "outputs": [],
   "source": [
    "A=[0,1,2,3]\n",
    "gamma=0.9\n",
    "gs=(5,5)\n",
    "bs=[(1,2),(3,3)]\n",
    "xsize=7\n",
    "ysize=7\n",
    "p=0.5"
   ]
  },
  {
   "cell_type": "code",
   "execution_count": 50,
   "metadata": {},
   "outputs": [],
   "source": [
    "def tr(ix,iy,a):\n",
    "    if(a==0):\n",
    "        return ix-1,iy\n",
    "    elif(a==1):\n",
    "        return ix, iy-1\n",
    "    elif(a==2):\n",
    "        return ix, iy+1\n",
    "    else:\n",
    "        return ix+1,iy"
   ]
  },
  {
   "cell_type": "code",
   "execution_count": 51,
   "metadata": {},
   "outputs": [],
   "source": [
    "def tp(ins,a,fis):\n",
    "    ix,iy=ins\n",
    "    fx,fy=fis\n",
    "    ux,uy=tr(ix,iy,a)\n",
    "    if(ix==0 and iy==0):\n",
    "        if(fx==ux and fy==uy):\n",
    "            return p\n",
    "        else:\n",
    "            return (1-p)\n",
    "    if(ix==0 and iy==ysize-1):\n",
    "        if(fx==ux and fy==uy):\n",
    "            return p\n",
    "        else:\n",
    "            return (1-p)\n",
    "    if(ix==xsize-1 and iy==0):\n",
    "        if(fx==ux and fy==uy):\n",
    "            return p\n",
    "        else:\n",
    "            return (1-p)\n",
    "    if(ix==xsize-1 and iy==ysize-1):\n",
    "        if(fx==ux and fy==uy):\n",
    "            return p\n",
    "        else:\n",
    "            return (1-p)\n",
    "    if(ix==0 or ix==xsize-1 or iy==0 or iy==ysize-1):\n",
    "        if(fx==ux and fy==uy):\n",
    "            return p\n",
    "        else:\n",
    "            return (1-p)/2\n",
    "    else:\n",
    "        if(fx==ux and fy==uy):\n",
    "            return p\n",
    "        else:\n",
    "            return (1-p)/3"
   ]
  },
  {
   "cell_type": "code",
   "execution_count": 52,
   "metadata": {},
   "outputs": [],
   "source": [
    "def rew(ins,a):\n",
    "    ix,iy=ins\n",
    "    gx,gy=gs\n",
    "    fx,fy=tr(ix,iy,a)\n",
    "    if(ix==gx and iy==gy):\n",
    "        return 0\n",
    "    for i in range(len(bs)):\n",
    "        x0,y0=bs[i]\n",
    "        if(x0==fx and y0==fy):\n",
    "            return -50\n",
    "    if(fx==0 or fx==xsize-1 or fy==0 or fy==ysize-1):\n",
    "        return -100\n",
    "    if(fx==gx and fy==gy):\n",
    "        return 100\n",
    "    else:\n",
    "        return 0"
   ]
  },
  {
   "cell_type": "code",
   "execution_count": 53,
   "metadata": {},
   "outputs": [],
   "source": [
    "def q(Q,sx,sy):\n",
    "    s0=Q[0][sx][sy]\n",
    "    s1=Q[1][sx][sy]\n",
    "    s2=Q[2][sx][sy]\n",
    "    s3=Q[3][sx][sy]\n",
    "    return max(s1,s2,s3,s0)"
   ]
  },
  {
   "cell_type": "code",
   "execution_count": 54,
   "metadata": {},
   "outputs": [],
   "source": [
    "def Bellman_Operator(Q=np.zeros((4,xsize,ysize))):\n",
    "    for k in range(4):\n",
    "        for i in range(1,xsize-1):\n",
    "            for j in range(1,ysize-1):\n",
    "                ins=(i,j)\n",
    "                a=k\n",
    "                Q[k][i][j]=rew(ins,a)+gamma*(tp(ins,a,(i-1,j))*q(Q,i-1,j)+tp(ins,a,(i,j-1))*q(Q,i,j-1)+tp(ins,a,(i,j+1))*q(Q,i,j+1)+tp(ins,a,(i+1,j))*q(Q,i+1,j))\n",
    "    return Q"
   ]
  },
  {
   "cell_type": "code",
   "execution_count": 55,
   "metadata": {},
   "outputs": [
    {
     "name": "stdout",
     "output_type": "stream",
     "text": [
      "[[[   0.       0.       0.       0.       0.       0.       0.   ]\n",
      "  [   0.    -100.    -100.    -100.    -100.    -100.       0.   ]\n",
      "  [   0.       0.     -50.       0.       0.       0.       0.   ]\n",
      "  [   0.       0.       0.       0.       0.       0.       0.   ]\n",
      "  [   0.       0.       0.     -50.       0.       0.       0.   ]\n",
      "  [   0.       0.       0.       0.       0.       0.       0.   ]\n",
      "  [   0.       0.       0.       0.       0.       0.       0.   ]]\n",
      "\n",
      " [[   0.       0.       0.       0.       0.       0.       0.   ]\n",
      "  [   0.    -100.       0.     -50.       0.       0.       0.   ]\n",
      "  [   0.    -100.       0.       0.       0.       0.       0.   ]\n",
      "  [   0.    -100.       0.       0.     -50.       0.       0.   ]\n",
      "  [   0.    -100.       0.       0.       0.       0.       0.   ]\n",
      "  [   0.    -100.       0.       0.       0.       0.       0.   ]\n",
      "  [   0.       0.       0.       0.       0.       0.       0.   ]]\n",
      "\n",
      " [[   0.       0.       0.       0.       0.       0.       0.   ]\n",
      "  [   0.     -50.       0.       0.       0.    -100.       0.   ]\n",
      "  [   0.       0.       0.       0.       0.    -100.       0.   ]\n",
      "  [   0.       0.     -50.       0.       0.    -100.       0.   ]\n",
      "  [   0.       0.       0.       0.       0.    -100.       0.   ]\n",
      "  [   0.       0.       0.       0.     100.      15.       0.   ]\n",
      "  [   0.       0.       0.       0.       0.       0.       0.   ]]\n",
      "\n",
      " [[   0.       0.       0.       0.       0.       0.       0.   ]\n",
      "  [   0.       0.       0.       0.       0.       0.       0.   ]\n",
      "  [   0.       0.       0.     -50.       0.       0.       0.   ]\n",
      "  [   0.       0.       0.       0.       0.       0.       0.   ]\n",
      "  [   0.       0.       0.       0.      45.     113.5      0.   ]\n",
      "  [   0.    -100.    -100.     -85.     -91.      32.025    0.   ]\n",
      "  [   0.       0.       0.       0.       0.       0.       0.   ]]]\n"
     ]
    }
   ],
   "source": [
    "Q=Bellman_Operator()\n",
    "print(Q)"
   ]
  },
  {
   "cell_type": "code",
   "execution_count": 58,
   "metadata": {},
   "outputs": [],
   "source": [
    "def Value_iteration():\n",
    "    W=np.zeros((4,xsize,ysize))\n",
    "    for i in range(200):\n",
    "        W=Bellman_Operator(W)\n",
    "    OP=np.zeros((xsize,ysize))\n",
    "    for i in range(xsize):\n",
    "        for j in range(ysize):\n",
    "            m=max(W[0][i][j],W[1][i][j],W[2][i][j],W[3][i][j])\n",
    "            if(m==W[0][i][j]):\n",
    "                OP[i][j]=0\n",
    "            elif(m==W[1][i][j]):\n",
    "                OP[i][j]=1\n",
    "            elif(m==W[2][i][j]):\n",
    "                OP[i][j]=2\n",
    "            else:\n",
    "                OP[i][j]=3\n",
    "    return W,OP"
   ]
  },
  {
   "cell_type": "code",
   "execution_count": 60,
   "metadata": {},
   "outputs": [
    {
     "name": "stdout",
     "output_type": "stream",
     "text": [
      "[[0. 0. 0. 0. 0. 0. 0.]\n",
      " [0. 3. 3. 3. 3. 3. 0.]\n",
      " [0. 2. 2. 2. 3. 3. 0.]\n",
      " [0. 2. 3. 3. 3. 3. 0.]\n",
      " [0. 2. 2. 2. 2. 3. 0.]\n",
      " [0. 2. 2. 2. 2. 0. 0.]\n",
      " [0. 0. 0. 0. 0. 0. 0.]]\n"
     ]
    }
   ],
   "source": [
    "w,op=Value_iteration()\n",
    "print(op)"
   ]
  },
  {
   "cell_type": "code",
   "execution_count": null,
   "metadata": {},
   "outputs": [],
   "source": []
  }
 ],
 "metadata": {
  "kernelspec": {
   "display_name": "Python 3",
   "language": "python",
   "name": "python3"
  },
  "language_info": {
   "codemirror_mode": {
    "name": "ipython",
    "version": 3
   },
   "file_extension": ".py",
   "mimetype": "text/x-python",
   "name": "python",
   "nbconvert_exporter": "python",
   "pygments_lexer": "ipython3",
   "version": "3.6.5"
  }
 },
 "nbformat": 4,
 "nbformat_minor": 2
}
