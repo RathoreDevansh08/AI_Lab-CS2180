{
 "cells": [
  {
   "cell_type": "code",
   "execution_count": 1,
   "metadata": {},
   "outputs": [],
   "source": [
    "import numpy as np\n",
    "import matplotlib.pyplot as plt"
   ]
  },
  {
   "cell_type": "code",
   "execution_count": 2,
   "metadata": {},
   "outputs": [],
   "source": [
    "A=[0,1,2,3]\n",
    "gamma=0.9\n",
    "gs=(3,4)\n",
    "bs=[(1,2),(3,3)]\n",
    "xsize=7\n",
    "ysize=7\n",
    "p=0.5"
   ]
  },
  {
   "cell_type": "code",
   "execution_count": 3,
   "metadata": {},
   "outputs": [],
   "source": [
    "def tr(ix,iy,a):\n",
    "    if(a==0):\n",
    "        return ix-1,iy\n",
    "    elif(a==1):\n",
    "        return ix, iy-1\n",
    "    elif(a==2):\n",
    "        return ix, iy+1\n",
    "    else:\n",
    "        return ix+1,iy"
   ]
  },
  {
   "cell_type": "code",
   "execution_count": 5,
   "metadata": {},
   "outputs": [],
   "source": [
    "def tp(ins,a,fis):\n",
    "    ix,iy=ins\n",
    "    fx,fy=fis\n",
    "    ux,uy=tr(ix,iy,a)\n",
    "    if(ix==0 and iy==0):\n",
    "        if(fx==ux and fy==uy):\n",
    "            return p\n",
    "        else:\n",
    "            return (1-p)\n",
    "    if(ix==0 and iy==ysize-1):\n",
    "        if(fx==ux and fy==uy):\n",
    "            return p\n",
    "        else:\n",
    "            return (1-p)\n",
    "    if(ix==xsize-1 and iy==0):\n",
    "        if(fx==ux and fy==uy):\n",
    "            return p\n",
    "        else:\n",
    "            return (1-p)\n",
    "    if(ix==xsize-1 and iy==ysize-1):\n",
    "        if(fx==ux and fy==uy):\n",
    "            return p\n",
    "        else:\n",
    "            return (1-p)\n",
    "    if(ix==0 or ix==xsize-1 or iy==0 or iy==ysize-1):\n",
    "        if(fx==ux and fy==uy):\n",
    "            return p\n",
    "        else:\n",
    "            return (1-p)/2\n",
    "    else:\n",
    "        if(fx==ux and fy==uy):\n",
    "            return p\n",
    "        else:\n",
    "            return (1-p)/3"
   ]
  },
  {
   "cell_type": "code",
   "execution_count": 4,
   "metadata": {},
   "outputs": [],
   "source": [
    "def rew(ins,a):\n",
    "    ix,iy=ins\n",
    "    gx,gy=gs\n",
    "    fx,fy=tr(ix,iy,a)\n",
    "    if(ix==gx and iy==gy):\n",
    "        return 0\n",
    "    for i in range(len(bs)):\n",
    "        x0,y0=bs[i]\n",
    "        if(x0==fx and y0==fy):\n",
    "            return -50\n",
    "    if(fx==0 or fx==xsize-1 or fy==0 or fy==ysize-1):\n",
    "        return -100\n",
    "    if(fx==gx and fy==gy):\n",
    "        return 100\n",
    "    else:\n",
    "        return 0"
   ]
  },
  {
   "cell_type": "code",
   "execution_count": 6,
   "metadata": {},
   "outputs": [],
   "source": [
    "def q(Q,ix,iy,a):\n",
    "    fx,fy=tr(ix,iy,a)\n",
    "    return max(Q[0][fx][fy],Q[1][fx][fy],Q[2][fx][fy],Q[3][fx][fy])"
   ]
  },
  {
   "cell_type": "code",
   "execution_count": 7,
   "metadata": {},
   "outputs": [],
   "source": [
    "def Bellman_Operator(Q=np.zeros((4,xsize,ysize))):\n",
    "    M=np.zeros((4,xsize,ysize))\n",
    "    for k in range(4):\n",
    "        for i in range(1,xsize-1):\n",
    "            for j in range(1,ysize-1):\n",
    "                ins=(i,j)\n",
    "                a=k\n",
    "                M[k][i][j]=rew(ins,a)+gamma*(q(Q,i,j,a))\n",
    "    return M"
   ]
  },
  {
   "cell_type": "code",
   "execution_count": 8,
   "metadata": {},
   "outputs": [],
   "source": [
    "def Value_iteration():\n",
    "    W=np.zeros((4,xsize,ysize))\n",
    "    for i in range(500):\n",
    "        W=W+(1/(1+i))*(Bellman_Operator(W)-W)\n",
    "    OP=np.zeros((xsize,ysize))\n",
    "    for i in range(xsize):\n",
    "        for j in range(ysize):\n",
    "            m=max(W[0][i][j],W[1][i][j],W[2][i][j],W[3][i][j])\n",
    "            if(m==W[0][i][j]):\n",
    "                OP[i][j]=0\n",
    "            elif(m==W[1][i][j]):\n",
    "                OP[i][j]=1\n",
    "            elif(m==W[2][i][j]):\n",
    "                OP[i][j]=2\n",
    "            else:\n",
    "                OP[i][j]=3\n",
    "    return W,OP"
   ]
  },
  {
   "cell_type": "code",
   "execution_count": 9,
   "metadata": {},
   "outputs": [
    {
     "name": "stdout",
     "output_type": "stream",
     "text": [
      "[[[   0.            0.            0.            0.            0.\n",
      "      0.            0.        ]\n",
      "  [   0.         -100.         -100.         -100.         -100.\n",
      "   -100.            0.        ]\n",
      "  [   0.           64.03367745   45.26947051  132.55574102  175.00735711\n",
      "    132.55574102    0.        ]\n",
      "  [   0.           95.26947051  132.55574102  175.00735711  222.37574102\n",
      "    175.00735711    0.        ]\n",
      "  [   0.           93.19871009  130.19635711  172.37574102  275.00735711\n",
      "    222.37574102    0.        ]\n",
      "  [   0.           95.26947051  132.55574102  175.00735711  222.37574102\n",
      "    175.00735711    0.        ]\n",
      "  [   0.            0.            0.            0.            0.\n",
      "      0.            0.        ]]\n",
      "\n",
      " [[   0.            0.            0.            0.            0.\n",
      "      0.            0.        ]\n",
      "  [   0.         -100.           64.03367745   45.26947051  132.55574102\n",
      "    175.00735711    0.        ]\n",
      "  [   0.         -100.           95.26947051  132.55574102  175.00735711\n",
      "    222.37574102    0.        ]\n",
      "  [   0.         -100.           93.19871009  130.19635711  222.37574102\n",
      "    275.00735711    0.        ]\n",
      "  [   0.         -100.           95.26947051  132.55574102  175.00735711\n",
      "    222.37574102    0.        ]\n",
      "  [   0.         -100.           64.03367745   95.26947051  132.55574102\n",
      "    175.00735711    0.        ]\n",
      "  [   0.            0.            0.            0.            0.\n",
      "      0.            0.        ]]\n",
      "\n",
      " [[   0.            0.            0.            0.            0.\n",
      "      0.            0.        ]\n",
      "  [   0.           45.26947051  132.55574102  175.00735711  132.55574102\n",
      "   -100.            0.        ]\n",
      "  [   0.          132.55574102  175.00735711  222.37574102  175.00735711\n",
      "   -100.            0.        ]\n",
      "  [   0.          130.19635711  172.37574102  275.00735711  222.37574102\n",
      "   -100.            0.        ]\n",
      "  [   0.          132.55574102  175.00735711  222.37574102  175.00735711\n",
      "   -100.            0.        ]\n",
      "  [   0.           95.26947051  132.55574102  175.00735711  132.55574102\n",
      "   -100.            0.        ]\n",
      "  [   0.            0.            0.            0.            0.\n",
      "      0.            0.        ]]\n",
      "\n",
      " [[   0.            0.            0.            0.            0.\n",
      "      0.            0.        ]\n",
      "  [   0.           95.26947051  132.55574102  175.00735711  222.37574102\n",
      "    175.00735711    0.        ]\n",
      "  [   0.           93.19871009  130.19635711  172.37574102  275.00735711\n",
      "    222.37574102    0.        ]\n",
      "  [   0.           95.26947051  132.55574102  175.00735711  222.37574102\n",
      "    175.00735711    0.        ]\n",
      "  [   0.           64.03367745   95.26947051  132.55574102  175.00735711\n",
      "    132.55574102    0.        ]\n",
      "  [   0.         -100.         -100.         -100.         -100.\n",
      "   -100.            0.        ]\n",
      "  [   0.            0.            0.            0.            0.\n",
      "      0.            0.        ]]]\n",
      "[[0. 0. 0. 0. 0. 0. 0.]\n",
      " [0. 3. 2. 2. 3. 1. 0.]\n",
      " [0. 2. 2. 2. 3. 1. 0.]\n",
      " [0. 2. 2. 2. 0. 1. 0.]\n",
      " [0. 2. 2. 2. 0. 0. 0.]\n",
      " [0. 0. 0. 0. 0. 0. 0.]\n",
      " [0. 0. 0. 0. 0. 0. 0.]]\n"
     ]
    }
   ],
   "source": [
    "w,op=Value_iteration()\n",
    "print(w)\n",
    "print(op)"
   ]
  },
  {
   "cell_type": "code",
   "execution_count": null,
   "metadata": {},
   "outputs": [],
   "source": []
  },
  {
   "cell_type": "code",
   "execution_count": null,
   "metadata": {},
   "outputs": [],
   "source": []
  },
  {
   "cell_type": "code",
   "execution_count": null,
   "metadata": {},
   "outputs": [],
   "source": []
  }
 ],
 "metadata": {
  "kernelspec": {
   "display_name": "Python 3",
   "language": "python",
   "name": "python3"
  },
  "language_info": {
   "codemirror_mode": {
    "name": "ipython",
    "version": 3
   },
   "file_extension": ".py",
   "mimetype": "text/x-python",
   "name": "python",
   "nbconvert_exporter": "python",
   "pygments_lexer": "ipython3",
   "version": "3.6.5"
  }
 },
 "nbformat": 4,
 "nbformat_minor": 2
}
