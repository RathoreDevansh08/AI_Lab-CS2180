{
 "cells": [
  {
   "cell_type": "code",
   "execution_count": 72,
   "metadata": {},
   "outputs": [],
   "source": [
    "#Question 2\n",
    "\n",
    "import numpy as np\n",
    "import matplotlib.pyplot as plt"
   ]
  },
  {
   "cell_type": "code",
   "execution_count": 73,
   "metadata": {},
   "outputs": [],
   "source": [
    "file=open(\"/home2/cslab/Downloads/arrival\",\"r\")"
   ]
  },
  {
   "cell_type": "code",
   "execution_count": 74,
   "metadata": {},
   "outputs": [],
   "source": [
    "dis=3000 #in meters\n",
    "a=file.readlines()\n",
    "time=[]\n",
    "enter_time=[]\n",
    "speed=[]"
   ]
  },
  {
   "cell_type": "code",
   "execution_count": 75,
   "metadata": {},
   "outputs": [],
   "source": [
    "#Problem 1\n",
    "for line in a:\n",
    "    words = line.split()\n",
    "    enter_time.append(float(words[0]))\n",
    "    speed.append(float(words[1]))\n",
    "    time.append(float(words[0])+dis/(60*float(words[1])))"
   ]
  },
  {
   "cell_type": "code",
   "execution_count": 76,
   "metadata": {},
   "outputs": [
    {
     "name": "stdout",
     "output_type": "stream",
     "text": [
      "13.07276\n",
      "26.2786\n",
      "57.08988\n",
      "19.13327\n",
      "23.52457\n",
      "21.18695\n",
      "21.515790000000003\n",
      "21.62039\n",
      "27.2212\n",
      "65.65183999999999\n",
      "28.99136\n",
      "31.77426\n",
      "36.46233666666667\n",
      "32.322829999999996\n",
      "40.19443666666667\n",
      "73.9221\n",
      "36.83355\n",
      "38.46758\n",
      "78.78228\n",
      "39.0582\n",
      "42.56206\n",
      "50.37650666666667\n",
      "63.03423\n",
      "91.01432\n",
      "54.09082\n",
      "51.90325\n",
      "58.17994\n",
      "96.27194\n",
      "64.99716666666667\n",
      "100.60487\n",
      "69.66194999999999\n",
      "73.12367\n",
      "86.54745\n",
      "114.45024\n",
      "77.94046\n",
      "92.23762\n",
      "80.16538\n",
      "96.93339\n",
      "89.98624666666667\n",
      "125.19564\n",
      "86.99123\n",
      "89.61466\n",
      "95.23396666666667\n",
      "105.29024\n",
      "130.83094\n",
      "107.57948\n",
      "132.59608\n",
      "104.42244666666667\n",
      "99.26963\n",
      "117.45184\n",
      "143.15134999999998\n",
      "143.33035999999998\n",
      "108.54842\n",
      "114.04286666666667\n",
      "117.62074666666668\n",
      "129.31646\n",
      "156.38612\n",
      "119.60646\n",
      "119.4537\n",
      "126.79660666666668\n",
      "121.04186\n",
      "123.8706\n",
      "163.11031\n",
      "171.86902\n",
      "172.72199\n",
      "150.82939\n",
      "139.34286\n",
      "144.29424666666665\n",
      "152.3013\n",
      "192.40921\n",
      "170.67289\n",
      "197.06582\n",
      "161.73163\n",
      "169.26311666666666\n",
      "171.65769666666665\n",
      "167.43494\n",
      "211.29296\n",
      "171.59324\n",
      "212.18196\n",
      "194.08323\n",
      "194.14045\n",
      "195.33144\n",
      "196.28048\n",
      "189.22377666666665\n",
      "183.01244\n",
      "191.48057666666665\n",
      "226.50709\n",
      "205.00326\n",
      "209.03675\n",
      "197.4582\n",
      "195.35168\n",
      "198.35843\n",
      "213.66286\n",
      "238.95485\n",
      "200.16638\n",
      "243.05893\n",
      "221.75803\n",
      "225.34695\n",
      "211.05094\n",
      "215.20574\n"
     ]
    }
   ],
   "source": [
    "for i in range(len(time)):\n",
    "    print (time[i])"
   ]
  },
  {
   "cell_type": "code",
   "execution_count": null,
   "metadata": {},
   "outputs": [],
   "source": [
    "#Problem 2\n"
   ]
  }
 ],
 "metadata": {
  "kernelspec": {
   "display_name": "Python 3",
   "language": "python",
   "name": "python3"
  },
  "language_info": {
   "codemirror_mode": {
    "name": "ipython",
    "version": 3
   },
   "file_extension": ".py",
   "mimetype": "text/x-python",
   "name": "python",
   "nbconvert_exporter": "python",
   "pygments_lexer": "ipython3",
   "version": "3.6.7"
  }
 },
 "nbformat": 4,
 "nbformat_minor": 2
}
