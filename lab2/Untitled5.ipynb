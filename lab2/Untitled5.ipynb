{
 "cells": [
  {
   "cell_type": "code",
   "execution_count": 1,
   "metadata": {},
   "outputs": [],
   "source": [
    "#Question 3\n",
    "\n",
    "import numpy as np\n",
    "import matplotlib.pyplot as plt"
   ]
  },
  {
   "cell_type": "code",
   "execution_count": 12,
   "metadata": {},
   "outputs": [
    {
     "ename": "TypeError",
     "evalue": "'int' object is not callable",
     "output_type": "error",
     "traceback": [
      "\u001b[0;31m---------------------------------------------------------------------------\u001b[0m",
      "\u001b[0;31mTypeError\u001b[0m                                 Traceback (most recent call last)",
      "\u001b[0;32m<ipython-input-12-264962fd96b1>\u001b[0m in \u001b[0;36m<module>\u001b[0;34m()\u001b[0m\n\u001b[0;32m----> 1\u001b[0;31m \u001b[0mn\u001b[0m \u001b[0;34m=\u001b[0m \u001b[0minput\u001b[0m\u001b[0;34m(\u001b[0m\u001b[0;34m\"Enter dimension of grid\"\u001b[0m\u001b[0;34m)\u001b[0m\u001b[0;34m\u001b[0m\u001b[0;34m\u001b[0m\u001b[0m\n\u001b[0m\u001b[1;32m      2\u001b[0m \u001b[0mx\u001b[0m \u001b[0;34m=\u001b[0m \u001b[0minput\u001b[0m\u001b[0;34m(\u001b[0m\u001b[0;34m\"Enter initial x coord. of intruder\"\u001b[0m\u001b[0;34m)\u001b[0m\u001b[0;34m\u001b[0m\u001b[0;34m\u001b[0m\u001b[0m\n\u001b[1;32m      3\u001b[0m \u001b[0my\u001b[0m \u001b[0;34m=\u001b[0m \u001b[0minput\u001b[0m\u001b[0;34m(\u001b[0m\u001b[0;34m\"Enter initial y coord. of intruder\"\u001b[0m\u001b[0;34m)\u001b[0m\u001b[0;34m\u001b[0m\u001b[0;34m\u001b[0m\u001b[0m\n\u001b[1;32m      4\u001b[0m \u001b[0mk\u001b[0m \u001b[0;34m=\u001b[0m \u001b[0minput\u001b[0m\u001b[0;34m(\u001b[0m\u001b[0;34m\"Enter #bulbs to be switched ON at a time\"\u001b[0m\u001b[0;34m)\u001b[0m\u001b[0;34m\u001b[0m\u001b[0;34m\u001b[0m\u001b[0m\n",
      "\u001b[0;31mTypeError\u001b[0m: 'int' object is not callable"
     ]
    }
   ],
   "source": [
    "n = input(\"Enter dimension of grid\")\n",
    "x = input(\"Enter initial x coord. of intruder\")\n",
    "y = input(\"Enter initial y coord. of intruder\")\n",
    "k = input(\"Enter #bulbs to be switched ON at a time\")"
   ]
  },
  {
   "cell_type": "code",
   "execution_count": 3,
   "metadata": {},
   "outputs": [],
   "source": [
    "n=int(n)"
   ]
  },
  {
   "cell_type": "code",
   "execution_count": 4,
   "metadata": {},
   "outputs": [],
   "source": [
    "x=int(x)\n",
    "y=int(y)\n",
    "k=int(k)"
   ]
  },
  {
   "cell_type": "code",
   "execution_count": 5,
   "metadata": {},
   "outputs": [],
   "source": [
    "def move(s,x,y):\n",
    "        if(s==\"left\"):\n",
    "             return x,y-1   \n",
    "        elif(s==\"right\"):\n",
    "             return x,y+1   \n",
    "        elif(s==\"up\"):\n",
    "             return x-1,y   \n",
    "        elif(s==\"down\"):\n",
    "             return x+1,y   "
   ]
  },
  {
   "cell_type": "code",
   "execution_count": 11,
   "metadata": {},
   "outputs": [
    {
     "name": "stdout",
     "output_type": "stream",
     "text": [
      "-------------------------------------\n",
      "k bulbs switched ON, rest switched OFF\n",
      "[[1. 0. 0. 0. 0.]\n",
      " [0. 0. 0. 1. 2.]\n",
      " [0. 0. 0. 0. 0.]\n",
      " [0. 1. 0. 1. 0.]\n",
      " [1. 0. 0. 0. 1.]]\n",
      "-------------------------------------\n",
      "k bulbs switched ON, rest switched OFF\n",
      "[[0. 1. 0. 0. 0.]\n",
      " [0. 1. 0. 2. 0.]\n",
      " [0. 0. 0. 0. 0.]\n",
      " [1. 0. 0. 0. 0.]\n",
      " [0. 0. 1. 1. 1.]]\n",
      "-------------------------------------\n",
      "k bulbs switched ON, rest switched OFF\n",
      "[[0. 1. 1. 0. 0.]\n",
      " [0. 0. 2. 0. 0.]\n",
      " [0. 0. 0. 0. 1.]\n",
      " [1. 0. 0. 0. 0.]\n",
      " [0. 0. 1. 1. 0.]]\n",
      "-------------------------------------\n",
      "k bulbs switched ON, rest switched OFF\n",
      "[[0. 0. 1. 1. 1.]\n",
      " [0. 2. 0. 0. 0.]\n",
      " [0. 0. 1. 1. 0.]\n",
      " [0. 0. 0. 0. 0.]\n",
      " [0. 0. 0. 1. 0.]]\n",
      "-------------------------------------\n",
      "k bulbs switched ON, rest switched OFF\n",
      "[[0. 0. 1. 0. 0.]\n",
      " [0. 0. 0. 0. 0.]\n",
      " [0. 2. 0. 0. 1.]\n",
      " [0. 1. 0. 0. 0.]\n",
      " [0. 1. 1. 0. 1.]]\n",
      "-------------------------------------\n",
      "k bulbs switched ON, rest switched OFF\n",
      "Intruder Found!!\n",
      "[[0. 0. 0. 1. 0.]\n",
      " [0. 3. 0. 1. 0.]\n",
      " [0. 0. 0. 0. 0.]\n",
      " [0. 0. 1. 0. 0.]\n",
      " [0. 0. 1. 0. 1.]]\n"
     ]
    }
   ],
   "source": [
    "import random\n",
    "k=6\n",
    "input=1\n",
    "while(input):\n",
    "    k_pos=[]\n",
    "    print(\"-------------------------------------\")\n",
    "    if(x==0 and y==0):\n",
    "        li=[\"right\",\"down\"]\n",
    "    elif(x==0 and y==n-1):\n",
    "        li=[\"left\",\"down\"]\n",
    "    elif(x==n-1 and y==0):\n",
    "        li=[\"right\",\"up\"]\n",
    "    elif(x==n-1 and y==n-1):\n",
    "        li=[\"up\",\"left\"]\n",
    "    elif(x==0):\n",
    "        li=[\"down\",\"left\",\"right\"]\n",
    "    elif(y==0):\n",
    "        li=[\"up\",\"down\",\"right\"]\n",
    "    elif(x==n-1):\n",
    "        li=[\"up\",\"left\",\"right\"]\n",
    "    elif(y==n-1):\n",
    "        li=[\"up\",\"down\",\"left\"]\n",
    "    else:\n",
    "        li=[\"up\",\"down\",\"left\",\"right\"]\n",
    "        \n",
    "    ar=np.zeros((n,n))\n",
    "    \n",
    "    d=k\n",
    "    while(d!=0):\n",
    "        s1=np.random.randint(n)\n",
    "        s2=np.random.randint(n)\n",
    "        if(ar[s1][s2]!=1):\n",
    "            ar[s1][s2]=1\n",
    "            d=d-1\n",
    "        \n",
    "        \n",
    "    #k_pos.sort()\n",
    "    print(\"k bulbs switched ON, rest switched OFF\")\n",
    "        \n",
    "    p=np.random.randint(len(li))\n",
    "    \n",
    "    x,y=move(li[p],x,y)\n",
    "    \n",
    "    if(ar[x][y]==1):\n",
    "        ar[x][y]=3\n",
    "        print(\"Intruder Found!!\")\n",
    "        input=0\n",
    "    else:\n",
    "        ar[x][y]=2\n",
    "                \n",
    "    print(ar)     "
   ]
  },
  {
   "cell_type": "code",
   "execution_count": null,
   "metadata": {},
   "outputs": [],
   "source": []
  }
 ],
 "metadata": {
  "kernelspec": {
   "display_name": "Python 3",
   "language": "python",
   "name": "python3"
  },
  "language_info": {
   "codemirror_mode": {
    "name": "ipython",
    "version": 3
   },
   "file_extension": ".py",
   "mimetype": "text/x-python",
   "name": "python",
   "nbconvert_exporter": "python",
   "pygments_lexer": "ipython3",
   "version": "3.6.7"
  }
 },
 "nbformat": 4,
 "nbformat_minor": 2
}
