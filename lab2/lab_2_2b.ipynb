{
 "cells": [
  {
   "cell_type": "code",
   "execution_count": 1,
   "metadata": {},
   "outputs": [],
   "source": [
    "import numpy as np\n",
    "import matplotlib.pyplot as plt"
   ]
  },
  {
   "cell_type": "code",
   "execution_count": 16,
   "metadata": {},
   "outputs": [],
   "source": [
    "f1=open(\"/home/111701011/Documents/lab2/arrival\",\"r\");"
   ]
  },
  {
   "cell_type": "code",
   "execution_count": 17,
   "metadata": {},
   "outputs": [],
   "source": [
    "speed=[]\n",
    "ini_time=[]\n",
    "ini_speed=[]\n",
    "curr_time = 0.00\n",
    "tot_dis = 3000\n",
    "dis=[]\n",
    "fin_time=[]"
   ]
  },
  {
   "cell_type": "code",
   "execution_count": 18,
   "metadata": {},
   "outputs": [],
   "source": [
    "data=f1.readlines()\n",
    "\n",
    "for line in data:\n",
    "    words=line.split()\n",
    "    ini_time.append(float(float(words[0])*60))\n",
    "    ini_speed.append(float(words[1]))\n",
    "    speed.append(float(0))\n",
    "    dis.append(float(0))\n",
    "    fin_time.append(float(0))"
   ]
  },
  {
   "cell_type": "code",
   "execution_count": 19,
   "metadata": {},
   "outputs": [
    {
     "data": {
      "text/plain": [
       "34.3656"
      ]
     },
     "execution_count": 19,
     "metadata": {},
     "output_type": "execute_result"
    }
   ],
   "source": [
    "ini_time[0] #in seconds"
   ]
  },
  {
   "cell_type": "code",
   "execution_count": 20,
   "metadata": {},
   "outputs": [],
   "source": [
    "curr_cars = 1\n",
    "z=0\n",
    "curr_time=ini_time[0]\n",
    "dis[0]=0.000001\n",
    "k=1\n",
    "speed[0]=ini_speed[0]"
   ]
  },
  {
   "cell_type": "code",
   "execution_count": 21,
   "metadata": {},
   "outputs": [],
   "source": [
    "while (k!=100 or curr_cars!=0):\n",
    "\tmin_t=1000000.00\n",
    "\t\n",
    "\tfor i in range(100):\n",
    "\t\tif(dis[i]!=0 and min_t>float((tot_dis-dis[i])/speed[i])):\n",
    "\t\t\tmin_t=float((tot_dis-dis[i])/speed[i])\t\n",
    "\t\t\tz=i\n",
    "\t\t\t\n",
    "\tif(k<100 and (ini_time[k]-curr_time)<min_t):\n",
    "\t\tfor l in range(100):\n",
    "\t\t\tif(dis[l]!=0):\n",
    "\t\t\t\tdis[l]=dis[l]+speed[l]*(ini_time[k]-curr_time)\n",
    "\t\tcurr_time=ini_time[k]\n",
    "\t\tdis[k]=0.000001\n",
    "\t\tspeed[k]=ini_speed[k]\n",
    "\t\tk=k+1\n",
    "\t\tcurr_cars=curr_cars+1\n",
    "\t\tfor l in range(100):\n",
    "\t\t\tif(dis[l]!=0):\n",
    "\t\t\t\tspeed[l]=ini_speed[l]*float(1-float((curr_cars-1)/100.00))\n",
    "\t\t\n",
    "\telse:\n",
    "\t\tfor l in range(100):\n",
    "\t\t\tif(dis[l]!=0):\n",
    "\t\t\t\tdis[l]=dis[l]+speed[l]*(min_t)\n",
    "\t\tcurr_time=curr_time+min_t\n",
    "\t\tdis[z]=0\n",
    "\t\tcurr_cars=curr_cars-1\n",
    "\t\tfin_time[z]=curr_time\n",
    "\t\tfor l in range(100):\n",
    "\t\t\tif(dis[l]!=0):\n",
    "\t\t\t\tspeed[l]=ini_speed[l]*float(1-float((curr_cars-1)/100.00))"
   ]
  },
  {
   "cell_type": "code",
   "execution_count": 22,
   "metadata": {},
   "outputs": [
    {
     "name": "stdout",
     "output_type": "stream",
     "text": [
      "Out time for vehicles in minutes:\n",
      "13.380930640681006\n",
      "27.830594419324964\n",
      "61.90719427932424\n",
      "19.837371801206153\n",
      "24.622110858856196\n",
      "22.0489782456506\n",
      "22.39304433726894\n",
      "22.501092688917296\n",
      "28.439400131148982\n",
      "71.06102496534362\n",
      "30.043843956730782\n",
      "33.14188534856671\n",
      "38.289001192942706\n",
      "33.415257015638666\n",
      "41.97620203458932\n",
      "79.65931829948549\n",
      "37.97567245042307\n",
      "39.60185527066998\n",
      "84.83658352969492\n",
      "40.1830563576265\n",
      "43.88850339839329\n",
      "52.14814416836086\n",
      "65.70494095543297\n",
      "97.8757127087313\n",
      "55.47781003204797\n",
      "53.01593369964056\n",
      "59.58581447783938\n",
      "103.51031422316947\n",
      "66.89429622161525\n",
      "108.03120849348049\n",
      "70.84408024003453\n",
      "74.64145132096685\n",
      "90.23205679791684\n",
      "122.67658330053042\n",
      "79.61625262690266\n",
      "96.24565436179508\n",
      "81.60155984846352\n",
      "101.19581889518915\n",
      "92.77993271823324\n",
      "133.50523111531564\n",
      "88.74066957108586\n",
      "91.81950294419862\n",
      "98.24540582759069\n",
      "109.7052336468901\n",
      "138.92670199391128\n",
      "112.01086521292534\n",
      "140.58620551206005\n",
      "107.3750945300996\n",
      "101.10160636934681\n",
      "121.86326858380757\n",
      "150.41724630128235\n",
      "150.58445344413948\n",
      "110.70096410164261\n",
      "116.96159476333541\n",
      "120.52337219231987\n",
      "133.28234237499575\n",
      "162.86005981110353\n",
      "121.8206690987236\n",
      "121.25364906492767\n",
      "129.46939567356364\n",
      "122.80222933958224\n",
      "125.92627183113053\n",
      "169.29324795783597\n",
      "177.73041204100414\n",
      "178.5838980262254\n",
      "153.62439572468665\n",
      "140.87297800275198\n",
      "146.18361756426344\n",
      "153.3269879664039\n",
      "199.25840557457332\n",
      "173.5412133259269\n",
      "204.0621210727407\n",
      "162.80964521100867\n",
      "171.19160324850614\n",
      "173.68369657528675\n",
      "168.64883308639077\n",
      "218.28714333791723\n",
      "172.8785498733507\n",
      "219.1137989168646\n",
      "198.13249552482827\n",
      "198.19312147720925\n",
      "199.4362679439479\n",
      "200.3912649334788\n",
      "191.7694873924219\n",
      "184.37081022569092\n",
      "194.179108826786\n",
      "232.19190432021963\n",
      "209.047968918136\n",
      "212.98397272771214\n",
      "199.86598906004764\n",
      "197.31992190104725\n",
      "200.35256721112097\n",
      "217.3178599490981\n",
      "243.16944603443255\n",
      "202.06053340354686\n",
      "246.55980136050832\n",
      "224.32028740886244\n",
      "227.45602904307222\n",
      "212.27719558956764\n",
      "216.5921345422988\n"
     ]
    }
   ],
   "source": [
    "print(\"Out time for vehicles in minutes:\")\n",
    "for i in range(100):\n",
    "\tprint(float(fin_time[i]/60.00))"
   ]
  },
  {
   "cell_type": "code",
   "execution_count": null,
   "metadata": {},
   "outputs": [],
   "source": []
  }
 ],
 "metadata": {
  "kernelspec": {
   "display_name": "Python 3",
   "language": "python",
   "name": "python3"
  },
  "language_info": {
   "codemirror_mode": {
    "name": "ipython",
    "version": 3
   },
   "file_extension": ".py",
   "mimetype": "text/x-python",
   "name": "python",
   "nbconvert_exporter": "python",
   "pygments_lexer": "ipython3",
   "version": "3.6.5"
  }
 },
 "nbformat": 4,
 "nbformat_minor": 2
}
