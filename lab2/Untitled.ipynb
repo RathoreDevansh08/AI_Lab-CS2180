{
 "cells": [
  {
   "cell_type": "code",
   "execution_count": 21,
   "metadata": {},
   "outputs": [],
   "source": [
    "#Question 1\n",
    "\n",
    "import numpy as np\n",
    "import matplotlib.pyplot as plt"
   ]
  },
  {
   "cell_type": "code",
   "execution_count": 49,
   "metadata": {},
   "outputs": [],
   "source": [
    "class main:\n",
    "    def __init__(self,n,xe,ye):\n",
    "        ar=np.ndarray((n,n))\n",
    "        self.xe=xe\n",
    "        self.ye=ye\n",
    "        k=1\n",
    "        for i in range(n):\n",
    "            for j in range(n):\n",
    "                if(i==xe and j==ye):\n",
    "                    ar[i][j]=0\n",
    "                else:\n",
    "                    ar[i][j]=k\n",
    "                    k=k+1\n",
    "        self.ar=ar\n",
    "    \n",
    "    def coord(self):\n",
    "        return self.xe,self.ye\n",
    "        \n",
    "        \n",
    "    def move(self,s):\n",
    "        if(s==\"left\"):\n",
    "            if(self.ye==0):\n",
    "                print(\"Cannot move\")\n",
    "            else:\n",
    "                self.ar[self.xe][self.ye]=self.ar[self.xe][self.ye-1]\n",
    "                print(\"Moved LEFT\")\n",
    "                self.ye=self.ye-1\n",
    "                self.ar[self.xe][self.ye]=0\n",
    "        elif(s==\"right\"):\n",
    "            if(self.ye==n-1):\n",
    "                print(\"Cannot move\")\n",
    "            else:\n",
    "                self.ar[self.xe][self.ye]=self.ar[self.xe][self.ye+1]\n",
    "                print(\"Moved RIGHT\")\n",
    "                self.ye=self.ye+1\n",
    "                self.ar[self.xe][self.ye]=0\n",
    "        elif(s==\"up\"):\n",
    "            if(self.xe==0):\n",
    "                print(\"Cannot move\")\n",
    "            else:\n",
    "                self.ar[self.xe][self.ye]=self.ar[self.xe-1][self.ye]\n",
    "                print(\"Moved UP\")\n",
    "                self.xe=self.xe-1\n",
    "                self.ar[self.xe][self.ye]=0\n",
    "        elif(s==\"down\"):\n",
    "            if(self.xe==n-1):\n",
    "                print(\"Cannot move\")\n",
    "            else:\n",
    "                self.ar[self.xe][self.ye]=self.ar[self.xe+1][self.ye]\n",
    "                print(\"Moved DOWN\")\n",
    "                self.xe=self.xe+1\n",
    "                self.ar[self.xe][self.ye]=0\n",
    "            "
   ]
  },
  {
   "cell_type": "code",
   "execution_count": 50,
   "metadata": {},
   "outputs": [
    {
     "name": "stdout",
     "output_type": "stream",
     "text": [
      "Enter dimension n of the grid3\n",
      "Enter dimension x of the grid0\n",
      "Enter dimension y of the grid0\n"
     ]
    }
   ],
   "source": [
    "n=int(input(\"Enter dimension n of the grid\"))\n",
    "x=int(input(\"Enter dimension x of the grid\"))\n",
    "y=int(input(\"Enter dimension y of the grid\"))\n",
    "grid=main(n,x,y)"
   ]
  },
  {
   "cell_type": "code",
   "execution_count": 51,
   "metadata": {},
   "outputs": [
    {
     "data": {
      "text/plain": [
       "array([[0., 1., 2.],\n",
       "       [3., 4., 5.],\n",
       "       [6., 7., 8.]])"
      ]
     },
     "execution_count": 51,
     "metadata": {},
     "output_type": "execute_result"
    }
   ],
   "source": [
    "grid.ar"
   ]
  },
  {
   "cell_type": "code",
   "execution_count": 63,
   "metadata": {},
   "outputs": [
    {
     "name": "stdout",
     "output_type": "stream",
     "text": [
      "Enter directiondown\n",
      "Cannot move\n"
     ]
    }
   ],
   "source": [
    "st=input(\"Enter direction\")\n",
    "grid.move(st)"
   ]
  },
  {
   "cell_type": "raw",
   "metadata": {},
   "source": [
    "grid.ar"
   ]
  },
  {
   "cell_type": "code",
   "execution_count": 64,
   "metadata": {},
   "outputs": [
    {
     "data": {
      "text/plain": [
       "array([[1., 2., 5.],\n",
       "       [3., 4., 8.],\n",
       "       [6., 7., 0.]])"
      ]
     },
     "execution_count": 64,
     "metadata": {},
     "output_type": "execute_result"
    }
   ],
   "source": [
    "grid.ar"
   ]
  },
  {
   "cell_type": "code",
   "execution_count": null,
   "metadata": {},
   "outputs": [],
   "source": []
  }
 ],
 "metadata": {
  "kernelspec": {
   "display_name": "Python 3",
   "language": "python",
   "name": "python3"
  },
  "language_info": {
   "codemirror_mode": {
    "name": "ipython",
    "version": 3
   },
   "file_extension": ".py",
   "mimetype": "text/x-python",
   "name": "python",
   "nbconvert_exporter": "python",
   "pygments_lexer": "ipython3",
   "version": "3.6.7"
  }
 },
 "nbformat": 4,
 "nbformat_minor": 2
}
