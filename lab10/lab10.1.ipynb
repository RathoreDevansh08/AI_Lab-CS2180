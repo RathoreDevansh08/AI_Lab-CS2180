{
 "cells": [
  {
   "cell_type": "code",
   "execution_count": 61,
   "metadata": {},
   "outputs": [],
   "source": [
    "import numpy as np\n",
    "import matplotlib.pyplot as plt"
   ]
  },
  {
   "cell_type": "code",
   "execution_count": 274,
   "metadata": {},
   "outputs": [],
   "source": [
    "A=[0,1] #L->0, R->1\n",
    "R=[-1,+1]\n",
    "p=0.5\n",
    "prob_l=p\n",
    "prob_r=1-p"
   ]
  },
  {
   "cell_type": "code",
   "execution_count": 275,
   "metadata": {},
   "outputs": [],
   "source": [
    "T1=0\n",
    "T2=10"
   ]
  },
  {
   "cell_type": "code",
   "execution_count": null,
   "metadata": {},
   "outputs": [],
   "source": []
  },
  {
   "cell_type": "code",
   "execution_count": 276,
   "metadata": {},
   "outputs": [],
   "source": [
    "def environment(length):\n",
    "    T1=0\n",
    "    T2=10\n",
    "    R_sa=np.zeros((length+1,2))\n",
    "    V_sa=np.zeros((length+1,2))\n",
    "    R_sa[1][0]=-1\n",
    "    R_sa[1][1]=-1\n",
    "    R_sa[T2-1][0]=1\n",
    "    R_sa[T2-1][1]=1\n",
    "    gamma=0.9\n",
    "    P=np.zeros((length+1,length+1))\n",
    "    for i in range(10):\n",
    "        for j in range(10):\n",
    "            if(j==i+1):\n",
    "                P[i][j]=p\n",
    "            elif(j==i-1):\n",
    "                P[i][j]=1-p\n",
    "    P[1][0]=1\n",
    "    P[1][1]=0\n",
    "    P[9][1]=1\n",
    "    P[9][0]=0\n",
    "    return R_sa,P"
   ]
  },
  {
   "cell_type": "code",
   "execution_count": 277,
   "metadata": {},
   "outputs": [],
   "source": [
    "R,P=environment(10)"
   ]
  },
  {
   "cell_type": "code",
   "execution_count": 278,
   "metadata": {},
   "outputs": [],
   "source": [
    "def Bellman_operator(V):\n",
    "    gamma=0.9\n",
    "    TV=np.ndarray((11,1))\n",
    "    for i in range(10):\n",
    "        maxv=-100\n",
    "        if(i==0):\n",
    "            TV[0]=0\n",
    "            TV[10]=0\n",
    "        if(i!=0):\n",
    "            for j in range(2):\n",
    "                t=R[i][j]+gamma*(P[i][i+1]*(V[i+1])+P[i][i-1]*(V[i-1]))\n",
    "                maxv=max(maxv,t)\n",
    "            TV[i]=maxv\n",
    "    return TV "
   ]
  },
  {
   "cell_type": "code",
   "execution_count": 279,
   "metadata": {},
   "outputs": [],
   "source": [
    "V=[0,0,0,0,0,0,0,0,0,0,0,0,0]\n",
    "TV=Bellman_operator(V)"
   ]
  },
  {
   "cell_type": "code",
   "execution_count": 280,
   "metadata": {},
   "outputs": [
    {
     "data": {
      "text/plain": [
       "array([[ 0.],\n",
       "       [-1.],\n",
       "       [ 0.],\n",
       "       [ 0.],\n",
       "       [ 0.],\n",
       "       [ 0.],\n",
       "       [ 0.],\n",
       "       [ 0.],\n",
       "       [ 0.],\n",
       "       [ 1.],\n",
       "       [ 0.]])"
      ]
     },
     "execution_count": 280,
     "metadata": {},
     "output_type": "execute_result"
    }
   ],
   "source": [
    "TV"
   ]
  },
  {
   "cell_type": "code",
   "execution_count": 281,
   "metadata": {},
   "outputs": [],
   "source": [
    "W=[]\n",
    "V=[0,0,0,0,0,0,0,0,0,0,0,0,0]"
   ]
  },
  {
   "cell_type": "code",
   "execution_count": 297,
   "metadata": {},
   "outputs": [],
   "source": [
    "def Value_iteration(V):\n",
    "    tv=V\n",
    "    for k in range(100):\n",
    "        tv=Bellman_operator(tv)\n",
    "        W.append(tv)\n",
    "    return tv"
   ]
  },
  {
   "cell_type": "code",
   "execution_count": 298,
   "metadata": {},
   "outputs": [
    {
     "data": {
      "text/plain": [
       "[0, 0, 0, 0, 0, 0, 0, 0, 0, 0, 0, 0]"
      ]
     },
     "execution_count": 298,
     "metadata": {},
     "output_type": "execute_result"
    }
   ],
   "source": [
    "V"
   ]
  },
  {
   "cell_type": "code",
   "execution_count": null,
   "metadata": {},
   "outputs": [],
   "source": []
  },
  {
   "cell_type": "code",
   "execution_count": 299,
   "metadata": {},
   "outputs": [],
   "source": [
    "V=[0,0,0,0,0,0,0,0,0,0,0,0]\n",
    "tv=Value_iteration(V)"
   ]
  },
  {
   "cell_type": "code",
   "execution_count": 303,
   "metadata": {},
   "outputs": [
    {
     "data": {
      "text/plain": [
       "array([[ 0.        ],\n",
       "       [-1.37252923],\n",
       "       [-0.82784274],\n",
       "       [-0.46712129],\n",
       "       [-0.21020458],\n",
       "       [ 0.        ],\n",
       "       [ 0.21020458],\n",
       "       [ 0.46712129],\n",
       "       [ 0.82784274],\n",
       "       [ 1.37252923],\n",
       "       [ 0.        ]])"
      ]
     },
     "execution_count": 303,
     "metadata": {},
     "output_type": "execute_result"
    }
   ],
   "source": [
    "tv"
   ]
  },
  {
   "cell_type": "code",
   "execution_count": 301,
   "metadata": {},
   "outputs": [],
   "source": [
    "M=[]\n",
    "T=[]\n",
    "for i in range(100):\n",
    "    m=-1000\n",
    "    T.append(i)\n",
    "    for j in range(1,11):\n",
    "        m=max(m,abs(W[i][j]-tv[j]))\n",
    "    M.append(m)"
   ]
  },
  {
   "cell_type": "code",
   "execution_count": 302,
   "metadata": {},
   "outputs": [
    {
     "data": {
      "text/plain": [
       "[<matplotlib.lines.Line2D at 0x7efdbf9ec630>]"
      ]
     },
     "execution_count": 302,
     "metadata": {},
     "output_type": "execute_result"
    },
    {
     "data": {
      "image/png": "[encoded data removed]",
      "text/plain": [
       "<Figure size 432x288 with 1 Axes>"
      ]
     },
     "metadata": {},
     "output_type": "display_data"
    }
   ],
   "source": [
    "plt.plot(T,M)"
   ]
  },
  {
   "cell_type": "code",
   "execution_count": null,
   "metadata": {},
   "outputs": [],
   "source": []
  }
 ],
 "metadata": {
  "kernelspec": {
   "display_name": "Python 3",
   "language": "python",
   "name": "python3"
  },
  "language_info": {
   "codemirror_mode": {
    "name": "ipython",
    "version": 3
   },
   "file_extension": ".py",
   "mimetype": "text/x-python",
   "name": "python",
   "nbconvert_exporter": "python",
   "pygments_lexer": "ipython3",
   "version": "3.6.7"
  }
 },
 "nbformat": 4,
 "nbformat_minor": 2
}
