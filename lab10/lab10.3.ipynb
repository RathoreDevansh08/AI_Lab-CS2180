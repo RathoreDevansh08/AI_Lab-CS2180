{
 "cells": [
  {
   "cell_type": "code",
   "execution_count": 1,
   "metadata": {},
   "outputs": [],
   "source": [
    "import numpy as np\n",
    "import matplotlib.pyplot as plt"
   ]
  },
  {
   "cell_type": "code",
   "execution_count": 2,
   "metadata": {},
   "outputs": [],
   "source": [
    "gamma=0.9\n",
    "psize=150\n",
    "vsize=150"
   ]
  },
  {
   "cell_type": "code",
   "execution_count": 3,
   "metadata": {},
   "outputs": [],
   "source": [
    "A=[-1,0,1]\n",
    "velL=[-0.07,0.07]\n",
    "posL=[-1.2,0.5]"
   ]
  },
  {
   "cell_type": "code",
   "execution_count": 4,
   "metadata": {},
   "outputs": [],
   "source": [
    "def update(pos,vel,a):\n",
    "    v=vel+0.001*a-0.0025*np.cos(3*pos)\n",
    "    p=pos+vel\n",
    "    v=min(velL[1],max(v,velL[0]))\n",
    "    p=min(posL[1],max(p,posL[0]))\n",
    "    \n",
    "    return p,v"
   ]
  },
  {
   "cell_type": "code",
   "execution_count": 5,
   "metadata": {},
   "outputs": [],
   "source": [
    "posUnit=(posL[1]-posL[0])/(psize-1)\n",
    "velUnit=(velL[1]-velL[0])/(vsize-1)"
   ]
  },
  {
   "cell_type": "code",
   "execution_count": 6,
   "metadata": {},
   "outputs": [],
   "source": [
    "def reward(p,v,a):\n",
    "    if(p==posL[1]):\n",
    "        return 100\n",
    "    else:\n",
    "        return -50"
   ]
  },
  {
   "cell_type": "code",
   "execution_count": 7,
   "metadata": {},
   "outputs": [],
   "source": [
    "def repeat(TV,OP):\n",
    "    for p in range(psize):\n",
    "        for v in range(vsize):\n",
    "            maxv=-10000\n",
    "            a=0\n",
    "            t=0\n",
    "            for k in A:\n",
    "                pos=posL[0]+(posUnit*p)\n",
    "                vel=velL[0]+(velUnit*v)\n",
    "                \n",
    "                newP, newV=update(pos,vel,k)\n",
    "                npi=(newP-posL[0])/(posUnit)\n",
    "                nvi=(newV-velL[0])/(velUnit)\n",
    "                npi=int(np.ceil(npi))\n",
    "                nvi=int(np.ceil(nvi))\n",
    "                \n",
    "                t=reward(newP,newV,k)+gamma*(TV[npi][nvi])\n",
    "                if(newP>pos):\n",
    "                    t+=40\n",
    "                \n",
    "                if(maxv<t):\n",
    "                    maxv=t\n",
    "                    a=k\n",
    "            TV[p][v]=maxv\n",
    "            OP[p][v]=a\n",
    "    return TV,OP"
   ]
  },
  {
   "cell_type": "code",
   "execution_count": 8,
   "metadata": {},
   "outputs": [],
   "source": [
    "def Value_Iteration(it=500):\n",
    "    TV=np.zeros((psize,vsize))\n",
    "    OP=np.zeros((psize,vsize))\n",
    "    for i in range(it):\n",
    "        if(i%50==0):\n",
    "            print(\"Iteration\"+str(i))\n",
    "        TV,OP=repeat(TV,OP)\n",
    "    return TV,OP"
   ]
  },
  {
   "cell_type": "code",
   "execution_count": null,
   "metadata": {},
   "outputs": [
    {
     "name": "stdout",
     "output_type": "stream",
     "text": [
      "Iteration0\n",
      "Iteration50\n",
      "Iteration100\n",
      "Iteration150\n",
      "Iteration200\n"
     ]
    }
   ],
   "source": [
    "Value,Policy=Value_Iteration()"
   ]
  },
  {
   "cell_type": "code",
   "execution_count": 179,
   "metadata": {},
   "outputs": [
    {
     "name": "stdout",
     "output_type": "stream",
     "text": [
      "[[-440.67815793 -440.67815793 -440.67815793 ...   12.26388285\n",
      "    12.26388285   12.26388285]\n",
      " [-440.67815793 -440.67815793 -440.67815793 ...   12.26388285\n",
      "    12.26388285   12.26388285]\n",
      " [-440.67815793 -440.67815793 -440.67815793 ...   12.26388285\n",
      "    12.26388285   12.26388285]\n",
      " ...\n",
      " [-489.0075429  -489.0075429  -489.0075429  ... 1040.\n",
      "  1040.         1040.        ]\n",
      " [-489.0075429  -489.0075429  -490.10678861 ... 1040.\n",
      "  1040.         1040.        ]\n",
      " [-490.10678861 -490.10678861 -490.10678861 ... 1000.\n",
      "  1000.         1000.        ]]\n"
     ]
    }
   ],
   "source": [
    "print(Value)"
   ]
  },
  {
   "cell_type": "code",
   "execution_count": 180,
   "metadata": {},
   "outputs": [
    {
     "name": "stdout",
     "output_type": "stream",
     "text": [
      "[[ 0. -1. -1. ... -1. -1. -1.]\n",
      " [ 0. -1. -1. ... -1. -1. -1.]\n",
      " [ 0. -1. -1. ... -1. -1. -1.]\n",
      " ...\n",
      " [-1. -1. -1. ... -1. -1. -1.]\n",
      " [-1. -1. -1. ... -1. -1. -1.]\n",
      " [-1. -1. -1. ... -1. -1. -1.]]\n"
     ]
    }
   ],
   "source": [
    "print(Policy)"
   ]
  },
  {
   "cell_type": "code",
   "execution_count": 181,
   "metadata": {},
   "outputs": [
    {
     "data": {
      "text/plain": [
       "<matplotlib.image.AxesImage at 0x7f8f60867278>"
      ]
     },
     "execution_count": 181,
     "metadata": {},
     "output_type": "execute_result"
    },
    {
     "data": {
      "image/png": "[encoded data removed]",
      "text/plain": [
       "<Figure size 432x288 with 1 Axes>"
      ]
     },
     "metadata": {},
     "output_type": "display_data"
    }
   ],
   "source": [
    "plt.imshow(Value)"
   ]
  },
  {
   "cell_type": "code",
   "execution_count": 109,
   "metadata": {},
   "outputs": [],
   "source": [
    "np.savetxt(\"Value.txt\",Value,fmt=\"%i\")"
   ]
  },
  {
   "cell_type": "code",
   "execution_count": 110,
   "metadata": {},
   "outputs": [],
   "source": [
    "np.savetxt(\"Policy.txt\",Policy,fmt=\"%i\")"
   ]
  },
  {
   "cell_type": "code",
   "execution_count": 182,
   "metadata": {},
   "outputs": [
    {
     "name": "stdout",
     "output_type": "stream",
     "text": [
      "0.3387 0.036145975079323336\n",
      "0.3748459750793233 0.03382926211952364\n",
      "0.40867523719884696 0.03275027865493177\n",
      "0.44142551585377876 0.03090532665506641\n",
      "0.47233084250884516 0.02929525055841249\n",
      "0.5 0.027912255235897285\n"
     ]
    }
   ],
   "source": [
    "ve=0.0387\n",
    "po=0.3\n",
    "while(po<posL[1]):\n",
    "    vi=(ve-velL[0])/(velUnit)\n",
    "    pi=(po-posL[0])/(posUnit)\n",
    "    vi=int(np.ceil(vi))\n",
    "    pi=int(np.ceil(pi))\n",
    "    a=Policy[pi][vi]\n",
    "    po,ve=update(po,ve,a)\n",
    "    print(po,ve)"
   ]
  },
  {
   "cell_type": "code",
   "execution_count": null,
   "metadata": {},
   "outputs": [],
   "source": []
  }
 ],
 "metadata": {
  "kernelspec": {
   "display_name": "Python 3",
   "language": "python",
   "name": "python3"
  },
  "language_info": {
   "codemirror_mode": {
    "name": "ipython",
    "version": 3
   },
   "file_extension": ".py",
   "mimetype": "text/x-python",
   "name": "python",
   "nbconvert_exporter": "python",
   "pygments_lexer": "ipython3",
   "version": "3.6.5"
  }
 },
 "nbformat": 4,
 "nbformat_minor": 2
}
