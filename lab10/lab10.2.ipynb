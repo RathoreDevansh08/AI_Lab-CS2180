{
 "cells": [
  {
   "cell_type": "code",
   "execution_count": 92,
   "metadata": {},
   "outputs": [],
   "source": [
    "import numpy as np\n",
    "import matplotlib.pyplot as plt"
   ]
  },
  {
   "cell_type": "code",
   "execution_count": 104,
   "metadata": {},
   "outputs": [],
   "source": [
    "A=[0,1,2,3] \n",
    "p=0.5\n",
    "gamma=0.9\n",
    "xsize=10\n",
    "ysize=10\n",
    "bs=[(5,5),(6,4)]\n",
    "gs=(8,8)"
   ]
  },
  {
   "cell_type": "code",
   "execution_count": 105,
   "metadata": {},
   "outputs": [],
   "source": [
    "def rew(x,y,gs,bs):\n",
    "    gx,gy=gs\n",
    "    if(x==gx and y==gy):\n",
    "        return 100\n",
    "    for i in range(len(bs)):\n",
    "        x0,y0=bs[i]\n",
    "        if(x0==x and y0==y):\n",
    "            return -50\n",
    "    return 0"
   ]
  },
  {
   "cell_type": "code",
   "execution_count": 106,
   "metadata": {},
   "outputs": [],
   "source": [
    "def tr(x,y,a):\n",
    "    if(a==0):\n",
    "        return x-1,y\n",
    "    elif(a==1):\n",
    "        return x,y-1\n",
    "    elif(a==2):\n",
    "        return x,y+1\n",
    "    else:\n",
    "        return x+1,y"
   ]
  },
  {
   "cell_type": "code",
   "execution_count": 107,
   "metadata": {},
   "outputs": [],
   "source": [
    "def tp(ins,a,fis,gs,bs):\n",
    "    gx,gy=gs\n",
    "    ix,iy=ins\n",
    "    fx,fy=fis\n",
    "    ab=xsize*ysize\n",
    "    ux,uy=tr(ix,iy,a)\n",
    "    if(ix==0 and iy==0):\n",
    "        if(fx==ux and fy==uy):\n",
    "            return p\n",
    "        else:\n",
    "            return 1-p\n",
    "    if(ix==xsize-1 and iy==ysize-1):\n",
    "        if(fx==ux and fy==uy):\n",
    "            return p\n",
    "        else:\n",
    "            return 1-p\n",
    "    if(ix==0 and iy==ysize-1):\n",
    "        if(fx==ux and fy==uy):\n",
    "            return p\n",
    "        else:\n",
    "            return 1-p\n",
    "    if(iy==0 and ix==xsize-1):\n",
    "        if(fx==ux and fy==uy):\n",
    "            return p\n",
    "        else:\n",
    "            return 1-p\n",
    "    if(ix==0):\n",
    "        if(fx==ux and fy==uy):\n",
    "            return p\n",
    "        else:\n",
    "            return (1-p)/2\n",
    "    if(iy==0):\n",
    "        if(fx==ux and fy==uy):\n",
    "            return p\n",
    "        else:\n",
    "            return (1-p)/2\n",
    "    if(ix==xsize-1):\n",
    "        if(fx==ux and fy==uy):\n",
    "            return p\n",
    "        else:\n",
    "            return (1-p)/2\n",
    "    if(iy==ysize-1):\n",
    "        if(fx==ux and fy==uy):\n",
    "            return p\n",
    "        else:\n",
    "            return (1-p)/2\n",
    "    else:\n",
    "        if(fx==ux and fy==uy):\n",
    "            return p\n",
    "        else:\n",
    "            return (1-p)/3"
   ]
  },
  {
   "cell_type": "code",
   "execution_count": 108,
   "metadata": {},
   "outputs": [],
   "source": [
    "def Bellman_operator(V=np.zeros((xsize,ysize))):\n",
    "    #V=np.zeros((xsize,ysize))\n",
    "    gamma=0.9\n",
    "    TV=np.ndarray((xsize,ysize))\n",
    "    OP=np.zeros((xsize,ysize))\n",
    "    for i in range(1,xsize-1):\n",
    "        for j in range(1,ysize-1):\n",
    "            maxv=-1000\n",
    "            op=0\n",
    "            t=0\n",
    "            for a in range(4):\n",
    "                if(i!=0):\n",
    "                    z1=V[i-1][j]\n",
    "                else:\n",
    "                    z1=0\n",
    "                if(j!=0):\n",
    "                    z2=V[i][j-1]\n",
    "                else:\n",
    "                    z2=0\n",
    "                if(j!=ysize):\n",
    "                    z3=V[i][j+1]\n",
    "                else:\n",
    "                    z3=0\n",
    "                if(i!=xsize):\n",
    "                    z4=V[i+1][j]\n",
    "                else:\n",
    "                    z4=0\n",
    "                t=rew(i,j,gs,bs)+gamma*(tp((i,j),a,(i-1,j),gs,bs)*z1+tp((i,j),a,(i,j-1),gs,bs)*z2+tp((i,j),a,(i,j+1),gs,bs)*z3+tp((i,j),a,(i+1,j),gs,bs)*z4)\n",
    "                if(maxv<t):\n",
    "                    maxv=t\n",
    "                    op=a\n",
    "            TV[i][j]=maxv\n",
    "            OP[i][j]=op\n",
    "    return TV,OP"
   ]
  },
  {
   "cell_type": "code",
   "execution_count": 109,
   "metadata": {},
   "outputs": [
    {
     "data": {
      "text/plain": [
       "(array([[  0.,   0.,   0.,   0.,   0.,   0.,   0.,   0.,   0.,   0.],\n",
       "        [  0.,   0.,   0.,   0.,   0.,   0.,   0.,   0.,   0.,   0.],\n",
       "        [  0.,   0.,   0.,   0.,   0.,   0.,   0.,   0.,   0.,   0.],\n",
       "        [  0.,   0.,   0.,   0.,   0.,   0.,   0.,   0.,   0.,   0.],\n",
       "        [  0.,   0.,   0.,   0.,   0.,   0.,   0.,   0.,   0.,   0.],\n",
       "        [  0.,   0.,   0.,   0.,   0., -50.,   0.,   0.,   0.,   0.],\n",
       "        [  0.,   0.,   0.,   0., -50.,   0.,   0.,   0.,   0.,   0.],\n",
       "        [  0.,   0.,   0.,   0.,   0.,   0.,   0.,   0.,   0.,   0.],\n",
       "        [  0.,   0.,   0.,   0.,   0.,   0.,   0.,   0., 100.,   0.],\n",
       "        [  0.,   0.,   0.,   0.,   0.,   0.,   0.,   0.,   0.,   0.]]),\n",
       " array([[0., 0., 0., 0., 0., 0., 0., 0., 0., 0.],\n",
       "        [0., 0., 0., 0., 0., 0., 0., 0., 0., 0.],\n",
       "        [0., 0., 0., 0., 0., 0., 0., 0., 0., 0.],\n",
       "        [0., 0., 0., 0., 0., 0., 0., 0., 0., 0.],\n",
       "        [0., 0., 0., 0., 0., 0., 0., 0., 0., 0.],\n",
       "        [0., 0., 0., 0., 0., 0., 0., 0., 0., 0.],\n",
       "        [0., 0., 0., 0., 0., 0., 0., 0., 0., 0.],\n",
       "        [0., 0., 0., 0., 0., 0., 0., 0., 0., 0.],\n",
       "        [0., 0., 0., 0., 0., 0., 0., 0., 0., 0.],\n",
       "        [0., 0., 0., 0., 0., 0., 0., 0., 0., 0.]]))"
      ]
     },
     "execution_count": 109,
     "metadata": {},
     "output_type": "execute_result"
    }
   ],
   "source": [
    "Bellman_operator()"
   ]
  },
  {
   "cell_type": "code",
   "execution_count": null,
   "metadata": {},
   "outputs": [],
   "source": []
  },
  {
   "cell_type": "code",
   "execution_count": 110,
   "metadata": {},
   "outputs": [],
   "source": [
    "W=[]"
   ]
  },
  {
   "cell_type": "code",
   "execution_count": 111,
   "metadata": {},
   "outputs": [],
   "source": [
    "def Value_iteration():\n",
    "    tv=np.zeros((xsize,ysize))\n",
    "    op=np.zeros((xsize,ysize))\n",
    "    for k in range(200):\n",
    "        tv,op=Bellman_operator(tv)\n",
    "        W.append(tv)\n",
    "    return tv,op"
   ]
  },
  {
   "cell_type": "code",
   "execution_count": 112,
   "metadata": {},
   "outputs": [
    {
     "name": "stdout",
     "output_type": "stream",
     "text": [
      "[[ 0.00000000e+00  0.00000000e+00  0.00000000e+00  0.00000000e+00\n",
      "   0.00000000e+00  0.00000000e+00  0.00000000e+00  0.00000000e+00\n",
      "   0.00000000e+00  0.00000000e+00]\n",
      " [ 0.00000000e+00  5.94749919e-01  1.01674556e+00  1.54069552e+00\n",
      "   2.27916803e+00  3.30292577e+00  4.52089791e+00  5.29229932e+00\n",
      "   3.90950829e+00  0.00000000e+00]\n",
      " [ 0.00000000e+00  9.14762767e-01  1.54761944e+00  2.32512995e+00\n",
      "   3.45027741e+00  5.07314640e+00  7.18136476e+00  8.95052977e+00\n",
      "   6.92369642e+00  0.00000000e+00]\n",
      " [ 0.00000000e+00  8.60810202e-01  1.41056476e+00  2.06171916e+00\n",
      "   3.17811220e+00  5.52367853e+00  9.77706367e+00  1.34242793e+01\n",
      "   1.10993127e+01  0.00000000e+00]\n",
      " [ 0.00000000e+00  5.92277624e-01  8.10177956e-01  4.74763101e-01\n",
      "  -8.95617488e-01 -7.57926105e-01  1.22025433e+01  1.98894298e+01\n",
      "   1.78824807e+01  0.00000000e+00]\n",
      " [ 0.00000000e+00  5.55908933e-01  1.02451361e-01 -2.93463061e+00\n",
      "  -1.52219568e+01 -4.62885316e+01  1.26628616e+01  2.96956317e+01\n",
      "   2.94092653e+01  0.00000000e+00]\n",
      " [ 0.00000000e+00  1.00377686e+00  6.31196886e-01 -5.86898791e+00\n",
      "  -4.95696977e+01  2.73442100e+00  2.94181709e+01  4.53364404e+01\n",
      "   4.94945521e+01  0.00000000e+00]\n",
      " [ 0.00000000e+00  1.83491329e+00  2.99024631e+00  4.24884844e+00\n",
      "   7.07506864e+00  2.58331899e+01  4.47145353e+01  6.45448605e+01\n",
      "   8.50726582e+01  0.00000000e+00]\n",
      " [ 0.00000000e+00  2.25823951e+00  4.40667226e+00  8.04310975e+00\n",
      "   1.49884037e+01  2.82681709e+01  4.92109596e+01  8.50301194e+01\n",
      "   1.51037214e+02  0.00000000e+00]\n",
      " [ 0.00000000e+00  0.00000000e+00  0.00000000e+00  0.00000000e+00\n",
      "   0.00000000e+00  0.00000000e+00  0.00000000e+00  0.00000000e+00\n",
      "   0.00000000e+00  0.00000000e+00]]\n",
      "[[0. 0. 0. 0. 0. 0. 0. 0. 0. 0.]\n",
      " [0. 2. 3. 3. 3. 3. 3. 3. 3. 0.]\n",
      " [0. 2. 2. 2. 2. 2. 3. 3. 3. 0.]\n",
      " [0. 2. 2. 2. 2. 2. 2. 3. 3. 0.]\n",
      " [0. 0. 0. 0. 0. 2. 2. 3. 3. 0.]\n",
      " [0. 3. 0. 0. 0. 2. 2. 3. 3. 0.]\n",
      " [0. 3. 3. 3. 3. 2. 2. 3. 3. 0.]\n",
      " [0. 2. 3. 3. 2. 2. 2. 2. 3. 0.]\n",
      " [0. 2. 2. 2. 2. 2. 2. 2. 0. 0.]\n",
      " [0. 0. 0. 0. 0. 0. 0. 0. 0. 0.]]\n"
     ]
    }
   ],
   "source": [
    "tv,op=Value_iteration()\n",
    "print(tv)\n",
    "print(op)"
   ]
  },
  {
   "cell_type": "code",
   "execution_count": 113,
   "metadata": {},
   "outputs": [],
   "source": [
    "M=[]\n",
    "tr=[]\n",
    "for k in range(200):\n",
    "    m=-1000\n",
    "    tr.append(k)\n",
    "    H=W[k]\n",
    "    for i in range(xsize):\n",
    "        for j in range(ysize):\n",
    "            m=max(m,abs(H[i][j]-tv[i][j]))\n",
    "    M.append(m)       "
   ]
  },
  {
   "cell_type": "code",
   "execution_count": 114,
   "metadata": {},
   "outputs": [
    {
     "name": "stdout",
     "output_type": "stream",
     "text": [
      "[[0. 0. 0. 0. 0. 0. 0. 0. 0. 0.]\n",
      " [0. 2. 3. 3. 3. 3. 3. 3. 3. 0.]\n",
      " [0. 2. 2. 2. 2. 2. 3. 3. 3. 0.]\n",
      " [0. 2. 2. 2. 2. 2. 2. 3. 3. 0.]\n",
      " [0. 0. 0. 0. 0. 2. 2. 3. 3. 0.]\n",
      " [0. 3. 0. 0. 0. 2. 2. 3. 3. 0.]\n",
      " [0. 3. 3. 3. 3. 2. 2. 3. 3. 0.]\n",
      " [0. 2. 3. 3. 2. 2. 2. 2. 3. 0.]\n",
      " [0. 2. 2. 2. 2. 2. 2. 2. 0. 0.]\n",
      " [0. 0. 0. 0. 0. 0. 0. 0. 0. 0.]]\n"
     ]
    }
   ],
   "source": [
    "print(op)"
   ]
  },
  {
   "cell_type": "code",
   "execution_count": 115,
   "metadata": {},
   "outputs": [
    {
     "data": {
      "text/plain": [
       "[<matplotlib.lines.Line2D at 0x7fe022bdef60>]"
      ]
     },
     "execution_count": 115,
     "metadata": {},
     "output_type": "execute_result"
    },
    {
     "data": {
      "image/png": "[encoded data removed]",
      "text/plain": [
       "<Figure size 432x288 with 1 Axes>"
      ]
     },
     "metadata": {},
     "output_type": "display_data"
    }
   ],
   "source": [
    "plt.plot(tr,M)"
   ]
  },
  {
   "cell_type": "code",
   "execution_count": null,
   "metadata": {},
   "outputs": [],
   "source": []
  }
 ],
 "metadata": {
  "kernelspec": {
   "display_name": "Python 3",
   "language": "python",
   "name": "python3"
  },
  "language_info": {
   "codemirror_mode": {
    "name": "ipython",
    "version": 3
   },
   "file_extension": ".py",
   "mimetype": "text/x-python",
   "name": "python",
   "nbconvert_exporter": "python",
   "pygments_lexer": "ipython3",
   "version": "3.6.5"
  }
 },
 "nbformat": 4,
 "nbformat_minor": 2
}
